{
  "nbformat": 4,
  "nbformat_minor": 0,
  "metadata": {
    "colab": {
      "name": "Sentiment Analsis",
      "provenance": [],
      "collapsed_sections": []
    },
    "kernelspec": {
      "name": "python3",
      "display_name": "Python 3"
    },
    "language_info": {
      "name": "python"
    }
  },
  "cells": [
    {
      "cell_type": "code",
      "metadata": {
        "colab": {
          "base_uri": "https://localhost:8080/"
        },
        "id": "__bDOHzRTIhc",
        "outputId": "3b56e712-6d7a-4d19-9f9e-6257b5dace5d"
      },
      "source": [
        "!pip3 install tensorflow_text"
      ],
      "execution_count": null,
      "outputs": [
        {
          "output_type": "stream",
          "name": "stdout",
          "text": [
            "Collecting tensorflow_text\n",
            "  Downloading tensorflow_text-2.7.3-cp37-cp37m-manylinux2010_x86_64.whl (4.9 MB)\n",
            "\u001b[K     |████████████████████████████████| 4.9 MB 7.8 MB/s \n",
            "\u001b[?25hRequirement already satisfied: tensorflow-hub>=0.8.0 in /usr/local/lib/python3.7/dist-packages (from tensorflow_text) (0.12.0)\n",
            "Requirement already satisfied: tensorflow<2.8,>=2.7.0 in /usr/local/lib/python3.7/dist-packages (from tensorflow_text) (2.7.0)\n",
            "Requirement already satisfied: six>=1.12.0 in /usr/local/lib/python3.7/dist-packages (from tensorflow<2.8,>=2.7.0->tensorflow_text) (1.15.0)\n",
            "Requirement already satisfied: typing-extensions>=3.6.6 in /usr/local/lib/python3.7/dist-packages (from tensorflow<2.8,>=2.7.0->tensorflow_text) (3.10.0.2)\n",
            "Requirement already satisfied: protobuf>=3.9.2 in /usr/local/lib/python3.7/dist-packages (from tensorflow<2.8,>=2.7.0->tensorflow_text) (3.17.3)\n",
            "Requirement already satisfied: gast<0.5.0,>=0.2.1 in /usr/local/lib/python3.7/dist-packages (from tensorflow<2.8,>=2.7.0->tensorflow_text) (0.4.0)\n",
            "Requirement already satisfied: keras<2.8,>=2.7.0rc0 in /usr/local/lib/python3.7/dist-packages (from tensorflow<2.8,>=2.7.0->tensorflow_text) (2.7.0)\n",
            "Requirement already satisfied: absl-py>=0.4.0 in /usr/local/lib/python3.7/dist-packages (from tensorflow<2.8,>=2.7.0->tensorflow_text) (0.12.0)\n",
            "Requirement already satisfied: opt-einsum>=2.3.2 in /usr/local/lib/python3.7/dist-packages (from tensorflow<2.8,>=2.7.0->tensorflow_text) (3.3.0)\n",
            "Requirement already satisfied: wrapt>=1.11.0 in /usr/local/lib/python3.7/dist-packages (from tensorflow<2.8,>=2.7.0->tensorflow_text) (1.13.3)\n",
            "Requirement already satisfied: grpcio<2.0,>=1.24.3 in /usr/local/lib/python3.7/dist-packages (from tensorflow<2.8,>=2.7.0->tensorflow_text) (1.42.0)\n",
            "Requirement already satisfied: h5py>=2.9.0 in /usr/local/lib/python3.7/dist-packages (from tensorflow<2.8,>=2.7.0->tensorflow_text) (3.1.0)\n",
            "Requirement already satisfied: tensorboard~=2.6 in /usr/local/lib/python3.7/dist-packages (from tensorflow<2.8,>=2.7.0->tensorflow_text) (2.7.0)\n",
            "Requirement already satisfied: keras-preprocessing>=1.1.1 in /usr/local/lib/python3.7/dist-packages (from tensorflow<2.8,>=2.7.0->tensorflow_text) (1.1.2)\n",
            "Requirement already satisfied: flatbuffers<3.0,>=1.12 in /usr/local/lib/python3.7/dist-packages (from tensorflow<2.8,>=2.7.0->tensorflow_text) (2.0)\n",
            "Requirement already satisfied: wheel<1.0,>=0.32.0 in /usr/local/lib/python3.7/dist-packages (from tensorflow<2.8,>=2.7.0->tensorflow_text) (0.37.0)\n",
            "Requirement already satisfied: termcolor>=1.1.0 in /usr/local/lib/python3.7/dist-packages (from tensorflow<2.8,>=2.7.0->tensorflow_text) (1.1.0)\n",
            "Requirement already satisfied: tensorflow-io-gcs-filesystem>=0.21.0 in /usr/local/lib/python3.7/dist-packages (from tensorflow<2.8,>=2.7.0->tensorflow_text) (0.22.0)\n",
            "Requirement already satisfied: tensorflow-estimator<2.8,~=2.7.0rc0 in /usr/local/lib/python3.7/dist-packages (from tensorflow<2.8,>=2.7.0->tensorflow_text) (2.7.0)\n",
            "Requirement already satisfied: numpy>=1.14.5 in /usr/local/lib/python3.7/dist-packages (from tensorflow<2.8,>=2.7.0->tensorflow_text) (1.19.5)\n",
            "Requirement already satisfied: google-pasta>=0.1.1 in /usr/local/lib/python3.7/dist-packages (from tensorflow<2.8,>=2.7.0->tensorflow_text) (0.2.0)\n",
            "Requirement already satisfied: libclang>=9.0.1 in /usr/local/lib/python3.7/dist-packages (from tensorflow<2.8,>=2.7.0->tensorflow_text) (12.0.0)\n",
            "Requirement already satisfied: astunparse>=1.6.0 in /usr/local/lib/python3.7/dist-packages (from tensorflow<2.8,>=2.7.0->tensorflow_text) (1.6.3)\n",
            "Requirement already satisfied: cached-property in /usr/local/lib/python3.7/dist-packages (from h5py>=2.9.0->tensorflow<2.8,>=2.7.0->tensorflow_text) (1.5.2)\n",
            "Requirement already satisfied: markdown>=2.6.8 in /usr/local/lib/python3.7/dist-packages (from tensorboard~=2.6->tensorflow<2.8,>=2.7.0->tensorflow_text) (3.3.6)\n",
            "Requirement already satisfied: werkzeug>=0.11.15 in /usr/local/lib/python3.7/dist-packages (from tensorboard~=2.6->tensorflow<2.8,>=2.7.0->tensorflow_text) (1.0.1)\n",
            "Requirement already satisfied: google-auth<3,>=1.6.3 in /usr/local/lib/python3.7/dist-packages (from tensorboard~=2.6->tensorflow<2.8,>=2.7.0->tensorflow_text) (1.35.0)\n",
            "Requirement already satisfied: tensorboard-plugin-wit>=1.6.0 in /usr/local/lib/python3.7/dist-packages (from tensorboard~=2.6->tensorflow<2.8,>=2.7.0->tensorflow_text) (1.8.0)\n",
            "Requirement already satisfied: tensorboard-data-server<0.7.0,>=0.6.0 in /usr/local/lib/python3.7/dist-packages (from tensorboard~=2.6->tensorflow<2.8,>=2.7.0->tensorflow_text) (0.6.1)\n",
            "Requirement already satisfied: setuptools>=41.0.0 in /usr/local/lib/python3.7/dist-packages (from tensorboard~=2.6->tensorflow<2.8,>=2.7.0->tensorflow_text) (57.4.0)\n",
            "Requirement already satisfied: requests<3,>=2.21.0 in /usr/local/lib/python3.7/dist-packages (from tensorboard~=2.6->tensorflow<2.8,>=2.7.0->tensorflow_text) (2.23.0)\n",
            "Requirement already satisfied: google-auth-oauthlib<0.5,>=0.4.1 in /usr/local/lib/python3.7/dist-packages (from tensorboard~=2.6->tensorflow<2.8,>=2.7.0->tensorflow_text) (0.4.6)\n",
            "Requirement already satisfied: rsa<5,>=3.1.4 in /usr/local/lib/python3.7/dist-packages (from google-auth<3,>=1.6.3->tensorboard~=2.6->tensorflow<2.8,>=2.7.0->tensorflow_text) (4.8)\n",
            "Requirement already satisfied: pyasn1-modules>=0.2.1 in /usr/local/lib/python3.7/dist-packages (from google-auth<3,>=1.6.3->tensorboard~=2.6->tensorflow<2.8,>=2.7.0->tensorflow_text) (0.2.8)\n",
            "Requirement already satisfied: cachetools<5.0,>=2.0.0 in /usr/local/lib/python3.7/dist-packages (from google-auth<3,>=1.6.3->tensorboard~=2.6->tensorflow<2.8,>=2.7.0->tensorflow_text) (4.2.4)\n",
            "Requirement already satisfied: requests-oauthlib>=0.7.0 in /usr/local/lib/python3.7/dist-packages (from google-auth-oauthlib<0.5,>=0.4.1->tensorboard~=2.6->tensorflow<2.8,>=2.7.0->tensorflow_text) (1.3.0)\n",
            "Requirement already satisfied: importlib-metadata>=4.4 in /usr/local/lib/python3.7/dist-packages (from markdown>=2.6.8->tensorboard~=2.6->tensorflow<2.8,>=2.7.0->tensorflow_text) (4.8.2)\n",
            "Requirement already satisfied: zipp>=0.5 in /usr/local/lib/python3.7/dist-packages (from importlib-metadata>=4.4->markdown>=2.6.8->tensorboard~=2.6->tensorflow<2.8,>=2.7.0->tensorflow_text) (3.6.0)\n",
            "Requirement already satisfied: pyasn1<0.5.0,>=0.4.6 in /usr/local/lib/python3.7/dist-packages (from pyasn1-modules>=0.2.1->google-auth<3,>=1.6.3->tensorboard~=2.6->tensorflow<2.8,>=2.7.0->tensorflow_text) (0.4.8)\n",
            "Requirement already satisfied: certifi>=2017.4.17 in /usr/local/lib/python3.7/dist-packages (from requests<3,>=2.21.0->tensorboard~=2.6->tensorflow<2.8,>=2.7.0->tensorflow_text) (2021.10.8)\n",
            "Requirement already satisfied: idna<3,>=2.5 in /usr/local/lib/python3.7/dist-packages (from requests<3,>=2.21.0->tensorboard~=2.6->tensorflow<2.8,>=2.7.0->tensorflow_text) (2.10)\n",
            "Requirement already satisfied: chardet<4,>=3.0.2 in /usr/local/lib/python3.7/dist-packages (from requests<3,>=2.21.0->tensorboard~=2.6->tensorflow<2.8,>=2.7.0->tensorflow_text) (3.0.4)\n",
            "Requirement already satisfied: urllib3!=1.25.0,!=1.25.1,<1.26,>=1.21.1 in /usr/local/lib/python3.7/dist-packages (from requests<3,>=2.21.0->tensorboard~=2.6->tensorflow<2.8,>=2.7.0->tensorflow_text) (1.24.3)\n",
            "Requirement already satisfied: oauthlib>=3.0.0 in /usr/local/lib/python3.7/dist-packages (from requests-oauthlib>=0.7.0->google-auth-oauthlib<0.5,>=0.4.1->tensorboard~=2.6->tensorflow<2.8,>=2.7.0->tensorflow_text) (3.1.1)\n",
            "Installing collected packages: tensorflow-text\n",
            "Successfully installed tensorflow-text-2.7.3\n"
          ]
        }
      ]
    },
    {
      "cell_type": "markdown",
      "metadata": {
        "id": "49DE4GqUWiv7"
      },
      "source": [
        "IMPORTING PACKAGES\n"
      ]
    },
    {
      "cell_type": "code",
      "metadata": {
        "id": "ktOB01b5WAI4"
      },
      "source": [
        "import numpy as np\n",
        "import pandas as pd \n",
        "import seaborn as sns\n",
        "import matplotlib.pyplot as plt\n",
        "import tensorflow as tf\n",
        "import tensorflow_text as tf_text\n",
        "import re\n",
        "import string\n",
        "import random\n",
        "%matplotlib inline\n",
        "from plotly import graph_objs as go\n",
        "import plotly.express as px\n",
        "import plotly.figure_factory as ff\n",
        "from collections import Counter\n",
        "\n",
        "from PIL import Image\n",
        "from wordcloud import WordCloud, STOPWORDS, ImageColorGenerator\n",
        "\n",
        "import nltk\n",
        "from nltk.corpus import stopwords\n",
        "\n",
        "from tqdm import tqdm\n",
        "import os\n",
        "import nltk\n",
        "import spacy\n",
        "import random\n",
        "from spacy.util import compounding\n",
        "from spacy.util import minibatch\n",
        "\n",
        "import re\n",
        "import string\n",
        "from sklearn.metrics import confusion_matrix\n",
        "from sklearn.metrics import accuracy_score\n",
        "from sklearn.linear_model import LogisticRegression\n",
        "from sklearn.model_selection import train_test_split\n",
        "\n",
        "from numpy import array\n",
        "from keras.preprocessing.text import one_hot\n",
        "from keras.preprocessing.sequence import pad_sequences\n",
        "from keras.models import Sequential\n",
        "from keras.layers import Dense\n",
        "from keras.layers import LSTM\n",
        "from keras.layers import Flatten\n",
        "from keras.layers.embeddings import Embedding\n",
        "from keras.preprocessing.text import Tokenizer\n"
      ],
      "execution_count": null,
      "outputs": []
    },
    {
      "cell_type": "markdown",
      "metadata": {
        "id": "FoCabIqAXvB1"
      },
      "source": [
        "BELOW IS A HELPER FUNCTION WHICH GENERATES RANDOM COLOURS,THAT ARE USED TO GIVE DIFFERENT COLOURS TO THE PLOTS"
      ]
    },
    {
      "cell_type": "code",
      "metadata": {
        "id": "wo4z3Y3kXwDk"
      },
      "source": [
        "def random_colours(number_of_colors):\n",
        "    '''\n",
        "    Simple function for random colours generation.\n",
        "    Input:\n",
        "        number_of_colors - integer value indicating the number of colours which are going to be generated.\n",
        "    Output:\n",
        "        Color in the following format: ['#E86DA4'] .\n",
        "    '''\n",
        "    colors = []\n",
        "    for i in range(number_of_colors):\n",
        "        colors.append(\"#\"+''.join([random.choice('0123456789ABCDEF') for j in range(6)]))\n",
        "    return colors"
      ],
      "execution_count": null,
      "outputs": []
    },
    {
      "cell_type": "markdown",
      "metadata": {
        "id": "mKodemSAYVLb"
      },
      "source": [
        "READ DATASET"
      ]
    },
    {
      "cell_type": "code",
      "metadata": {
        "id": "xMbT_BjxZmHH"
      },
      "source": [
        "train = pd.read_csv('/content/Corona_NLP_train.csv', encoding = \"ISO-8859-1\")\n",
        "test =pd.read_csv('/content/Corona_NLP_test.csv')"
      ],
      "execution_count": null,
      "outputs": []
    },
    {
      "cell_type": "markdown",
      "metadata": {
        "id": "bDFZXYQIaY0j"
      },
      "source": [
        "BASIC EDA"
      ]
    },
    {
      "cell_type": "code",
      "metadata": {
        "colab": {
          "base_uri": "https://localhost:8080/"
        },
        "id": "alefVXhXaatT",
        "outputId": "c1057e74-d31a-4d92-b1fd-460dd4387d61"
      },
      "source": [
        "#get summary of the training dataset\n",
        "train.info()"
      ],
      "execution_count": null,
      "outputs": [
        {
          "output_type": "stream",
          "name": "stdout",
          "text": [
            "<class 'pandas.core.frame.DataFrame'>\n",
            "RangeIndex: 41157 entries, 0 to 41156\n",
            "Data columns (total 6 columns):\n",
            " #   Column         Non-Null Count  Dtype \n",
            "---  ------         --------------  ----- \n",
            " 0   UserName       41157 non-null  int64 \n",
            " 1   ScreenName     41157 non-null  int64 \n",
            " 2   Location       32567 non-null  object\n",
            " 3   TweetAt        41157 non-null  object\n",
            " 4   OriginalTweet  41157 non-null  object\n",
            " 5   Sentiment      41157 non-null  object\n",
            "dtypes: int64(2), object(4)\n",
            "memory usage: 1.9+ MB\n"
          ]
        }
      ]
    },
    {
      "cell_type": "code",
      "metadata": {
        "colab": {
          "base_uri": "https://localhost:8080/",
          "height": 206
        },
        "id": "Nsl-ttcLaskX",
        "outputId": "e556cd85-17e3-4d0e-d370-f09f0c58cb5b"
      },
      "source": [
        "#let's look at the first row of the training data\n",
        "train.head()"
      ],
      "execution_count": null,
      "outputs": [
        {
          "output_type": "execute_result",
          "data": {
            "text/html": [
              "<div>\n",
              "<style scoped>\n",
              "    .dataframe tbody tr th:only-of-type {\n",
              "        vertical-align: middle;\n",
              "    }\n",
              "\n",
              "    .dataframe tbody tr th {\n",
              "        vertical-align: top;\n",
              "    }\n",
              "\n",
              "    .dataframe thead th {\n",
              "        text-align: right;\n",
              "    }\n",
              "</style>\n",
              "<table border=\"1\" class=\"dataframe\">\n",
              "  <thead>\n",
              "    <tr style=\"text-align: right;\">\n",
              "      <th></th>\n",
              "      <th>UserName</th>\n",
              "      <th>ScreenName</th>\n",
              "      <th>Location</th>\n",
              "      <th>TweetAt</th>\n",
              "      <th>OriginalTweet</th>\n",
              "      <th>Sentiment</th>\n",
              "    </tr>\n",
              "  </thead>\n",
              "  <tbody>\n",
              "    <tr>\n",
              "      <th>0</th>\n",
              "      <td>3799</td>\n",
              "      <td>48751</td>\n",
              "      <td>London</td>\n",
              "      <td>16-03-2020</td>\n",
              "      <td>@MeNyrbie @Phil_Gahan @Chrisitv https://t.co/i...</td>\n",
              "      <td>Neutral</td>\n",
              "    </tr>\n",
              "    <tr>\n",
              "      <th>1</th>\n",
              "      <td>3800</td>\n",
              "      <td>48752</td>\n",
              "      <td>UK</td>\n",
              "      <td>16-03-2020</td>\n",
              "      <td>advice Talk to your neighbours family to excha...</td>\n",
              "      <td>Positive</td>\n",
              "    </tr>\n",
              "    <tr>\n",
              "      <th>2</th>\n",
              "      <td>3801</td>\n",
              "      <td>48753</td>\n",
              "      <td>Vagabonds</td>\n",
              "      <td>16-03-2020</td>\n",
              "      <td>Coronavirus Australia: Woolworths to give elde...</td>\n",
              "      <td>Positive</td>\n",
              "    </tr>\n",
              "    <tr>\n",
              "      <th>3</th>\n",
              "      <td>3802</td>\n",
              "      <td>48754</td>\n",
              "      <td>NaN</td>\n",
              "      <td>16-03-2020</td>\n",
              "      <td>My food stock is not the only one which is emp...</td>\n",
              "      <td>Positive</td>\n",
              "    </tr>\n",
              "    <tr>\n",
              "      <th>4</th>\n",
              "      <td>3803</td>\n",
              "      <td>48755</td>\n",
              "      <td>NaN</td>\n",
              "      <td>16-03-2020</td>\n",
              "      <td>Me, ready to go at supermarket during the #COV...</td>\n",
              "      <td>Extremely Negative</td>\n",
              "    </tr>\n",
              "  </tbody>\n",
              "</table>\n",
              "</div>"
            ],
            "text/plain": [
              "   UserName  ...           Sentiment\n",
              "0      3799  ...             Neutral\n",
              "1      3800  ...            Positive\n",
              "2      3801  ...            Positive\n",
              "3      3802  ...            Positive\n",
              "4      3803  ...  Extremely Negative\n",
              "\n",
              "[5 rows x 6 columns]"
            ]
          },
          "metadata": {},
          "execution_count": 8
        }
      ]
    },
    {
      "cell_type": "code",
      "metadata": {
        "colab": {
          "base_uri": "https://localhost:8080/"
        },
        "id": "2hSXAgiAbDi-",
        "outputId": "3e1a44bb-24a1-4b55-e703-af191caa3c6c"
      },
      "source": [
        "#summary of the testing dataset\n",
        "test.info()"
      ],
      "execution_count": null,
      "outputs": [
        {
          "output_type": "stream",
          "name": "stdout",
          "text": [
            "<class 'pandas.core.frame.DataFrame'>\n",
            "RangeIndex: 3798 entries, 0 to 3797\n",
            "Data columns (total 6 columns):\n",
            " #   Column         Non-Null Count  Dtype \n",
            "---  ------         --------------  ----- \n",
            " 0   UserName       3798 non-null   int64 \n",
            " 1   ScreenName     3798 non-null   int64 \n",
            " 2   Location       2964 non-null   object\n",
            " 3   TweetAt        3798 non-null   object\n",
            " 4   OriginalTweet  3798 non-null   object\n",
            " 5   Sentiment      3798 non-null   object\n",
            "dtypes: int64(2), object(4)\n",
            "memory usage: 178.2+ KB\n"
          ]
        }
      ]
    },
    {
      "cell_type": "code",
      "metadata": {
        "colab": {
          "base_uri": "https://localhost:8080/",
          "height": 241
        },
        "id": "-wKk6sKObVsV",
        "outputId": "35c981e7-b743-424c-f1e2-5d15e2bddfef"
      },
      "source": [
        "#first row of the testing dataset\n",
        "test.head()"
      ],
      "execution_count": null,
      "outputs": [
        {
          "output_type": "execute_result",
          "data": {
            "text/html": [
              "<div>\n",
              "<style scoped>\n",
              "    .dataframe tbody tr th:only-of-type {\n",
              "        vertical-align: middle;\n",
              "    }\n",
              "\n",
              "    .dataframe tbody tr th {\n",
              "        vertical-align: top;\n",
              "    }\n",
              "\n",
              "    .dataframe thead th {\n",
              "        text-align: right;\n",
              "    }\n",
              "</style>\n",
              "<table border=\"1\" class=\"dataframe\">\n",
              "  <thead>\n",
              "    <tr style=\"text-align: right;\">\n",
              "      <th></th>\n",
              "      <th>UserName</th>\n",
              "      <th>ScreenName</th>\n",
              "      <th>Location</th>\n",
              "      <th>TweetAt</th>\n",
              "      <th>OriginalTweet</th>\n",
              "      <th>Sentiment</th>\n",
              "    </tr>\n",
              "  </thead>\n",
              "  <tbody>\n",
              "    <tr>\n",
              "      <th>0</th>\n",
              "      <td>1</td>\n",
              "      <td>44953</td>\n",
              "      <td>NYC</td>\n",
              "      <td>02-03-2020</td>\n",
              "      <td>TRENDING: New Yorkers encounter empty supermar...</td>\n",
              "      <td>Extremely Negative</td>\n",
              "    </tr>\n",
              "    <tr>\n",
              "      <th>1</th>\n",
              "      <td>2</td>\n",
              "      <td>44954</td>\n",
              "      <td>Seattle, WA</td>\n",
              "      <td>02-03-2020</td>\n",
              "      <td>When I couldn't find hand sanitizer at Fred Me...</td>\n",
              "      <td>Positive</td>\n",
              "    </tr>\n",
              "    <tr>\n",
              "      <th>2</th>\n",
              "      <td>3</td>\n",
              "      <td>44955</td>\n",
              "      <td>NaN</td>\n",
              "      <td>02-03-2020</td>\n",
              "      <td>Find out how you can protect yourself and love...</td>\n",
              "      <td>Extremely Positive</td>\n",
              "    </tr>\n",
              "    <tr>\n",
              "      <th>3</th>\n",
              "      <td>4</td>\n",
              "      <td>44956</td>\n",
              "      <td>Chicagoland</td>\n",
              "      <td>02-03-2020</td>\n",
              "      <td>#Panic buying hits #NewYork City as anxious sh...</td>\n",
              "      <td>Negative</td>\n",
              "    </tr>\n",
              "    <tr>\n",
              "      <th>4</th>\n",
              "      <td>5</td>\n",
              "      <td>44957</td>\n",
              "      <td>Melbourne, Victoria</td>\n",
              "      <td>03-03-2020</td>\n",
              "      <td>#toiletpaper #dunnypaper #coronavirus #coronav...</td>\n",
              "      <td>Neutral</td>\n",
              "    </tr>\n",
              "  </tbody>\n",
              "</table>\n",
              "</div>"
            ],
            "text/plain": [
              "   UserName  ...           Sentiment\n",
              "0         1  ...  Extremely Negative\n",
              "1         2  ...            Positive\n",
              "2         3  ...  Extremely Positive\n",
              "3         4  ...            Negative\n",
              "4         5  ...             Neutral\n",
              "\n",
              "[5 rows x 6 columns]"
            ]
          },
          "metadata": {},
          "execution_count": 10
        }
      ]
    },
    {
      "cell_type": "code",
      "metadata": {
        "colab": {
          "base_uri": "https://localhost:8080/"
        },
        "id": "kWJO1-yldx35",
        "outputId": "0862ca58-2569-406b-c8f2-84fbafb23980"
      },
      "source": [
        "#combine the training and testing data \n",
        "frames = [train, test]\n",
        "data = pd.concat(frames)\n",
        "data.info()"
      ],
      "execution_count": null,
      "outputs": [
        {
          "output_type": "stream",
          "name": "stdout",
          "text": [
            "<class 'pandas.core.frame.DataFrame'>\n",
            "Int64Index: 44955 entries, 0 to 3797\n",
            "Data columns (total 6 columns):\n",
            " #   Column         Non-Null Count  Dtype \n",
            "---  ------         --------------  ----- \n",
            " 0   UserName       44955 non-null  int64 \n",
            " 1   ScreenName     44955 non-null  int64 \n",
            " 2   Location       35531 non-null  object\n",
            " 3   TweetAt        44955 non-null  object\n",
            " 4   OriginalTweet  44955 non-null  object\n",
            " 5   Sentiment      44955 non-null  object\n",
            "dtypes: int64(2), object(4)\n",
            "memory usage: 2.4+ MB\n"
          ]
        }
      ]
    },
    {
      "cell_type": "code",
      "metadata": {
        "colab": {
          "base_uri": "https://localhost:8080/"
        },
        "id": "kx7MHAG0d3ti",
        "outputId": "cac8800d-2307-4371-c3f9-ea59ee468aca"
      },
      "source": [
        "#check for missing data \n",
        "missing = data['Location'].isnull()\n",
        "\n",
        "\n",
        "print(data[missing])"
      ],
      "execution_count": null,
      "outputs": [
        {
          "output_type": "stream",
          "name": "stdout",
          "text": [
            "      UserName  ...           Sentiment\n",
            "3         3802  ...            Positive\n",
            "4         3803  ...  Extremely Negative\n",
            "14        3813  ...            Positive\n",
            "22        3821  ...  Extremely Positive\n",
            "23        3822  ...  Extremely Positive\n",
            "...        ...  ...                 ...\n",
            "3767      3768  ...            Positive\n",
            "3777      3778  ...             Neutral\n",
            "3778      3779  ...             Neutral\n",
            "3779      3780  ...            Positive\n",
            "3796      3797  ...  Extremely Negative\n",
            "\n",
            "[9424 rows x 6 columns]\n"
          ]
        }
      ]
    },
    {
      "cell_type": "code",
      "metadata": {
        "id": "NF6H6U2_ed7B"
      },
      "source": [
        "#replace missing data \n",
        "data['Location'] = data['Location'].replace(np.nan, \"Unknown\")\n",
        "#test['Location'] = test['Location'].replace(np.nan, \"Unknown\")"
      ],
      "execution_count": null,
      "outputs": []
    },
    {
      "cell_type": "code",
      "metadata": {
        "colab": {
          "base_uri": "https://localhost:8080/",
          "height": 49
        },
        "id": "Vwq35ryreukp",
        "outputId": "5fa31454-fbaa-402a-e3ef-a22b1648ce52"
      },
      "source": [
        "#check again for missing data\n",
        "data[data['Location'].isnull()]"
      ],
      "execution_count": null,
      "outputs": [
        {
          "output_type": "execute_result",
          "data": {
            "text/html": [
              "<div>\n",
              "<style scoped>\n",
              "    .dataframe tbody tr th:only-of-type {\n",
              "        vertical-align: middle;\n",
              "    }\n",
              "\n",
              "    .dataframe tbody tr th {\n",
              "        vertical-align: top;\n",
              "    }\n",
              "\n",
              "    .dataframe thead th {\n",
              "        text-align: right;\n",
              "    }\n",
              "</style>\n",
              "<table border=\"1\" class=\"dataframe\">\n",
              "  <thead>\n",
              "    <tr style=\"text-align: right;\">\n",
              "      <th></th>\n",
              "      <th>UserName</th>\n",
              "      <th>ScreenName</th>\n",
              "      <th>Location</th>\n",
              "      <th>TweetAt</th>\n",
              "      <th>OriginalTweet</th>\n",
              "      <th>Sentiment</th>\n",
              "    </tr>\n",
              "  </thead>\n",
              "  <tbody>\n",
              "  </tbody>\n",
              "</table>\n",
              "</div>"
            ],
            "text/plain": [
              "Empty DataFrame\n",
              "Columns: [UserName, ScreenName, Location, TweetAt, OriginalTweet, Sentiment]\n",
              "Index: []"
            ]
          },
          "metadata": {},
          "execution_count": 20
        }
      ]
    },
    {
      "cell_type": "code",
      "metadata": {
        "colab": {
          "base_uri": "https://localhost:8080/",
          "height": 49
        },
        "id": "11HKEl3Jexe0",
        "outputId": "7dcfae13-8527-4714-8c4c-5475d01b189e"
      },
      "source": [
        "#check for duplicates in the data\n",
        "dups = data.duplicated()\n",
        "data[dups]"
      ],
      "execution_count": null,
      "outputs": [
        {
          "output_type": "execute_result",
          "data": {
            "text/html": [
              "<div>\n",
              "<style scoped>\n",
              "    .dataframe tbody tr th:only-of-type {\n",
              "        vertical-align: middle;\n",
              "    }\n",
              "\n",
              "    .dataframe tbody tr th {\n",
              "        vertical-align: top;\n",
              "    }\n",
              "\n",
              "    .dataframe thead th {\n",
              "        text-align: right;\n",
              "    }\n",
              "</style>\n",
              "<table border=\"1\" class=\"dataframe\">\n",
              "  <thead>\n",
              "    <tr style=\"text-align: right;\">\n",
              "      <th></th>\n",
              "      <th>UserName</th>\n",
              "      <th>ScreenName</th>\n",
              "      <th>Location</th>\n",
              "      <th>TweetAt</th>\n",
              "      <th>OriginalTweet</th>\n",
              "      <th>Sentiment</th>\n",
              "    </tr>\n",
              "  </thead>\n",
              "  <tbody>\n",
              "  </tbody>\n",
              "</table>\n",
              "</div>"
            ],
            "text/plain": [
              "Empty DataFrame\n",
              "Columns: [UserName, ScreenName, Location, TweetAt, OriginalTweet, Sentiment]\n",
              "Index: []"
            ]
          },
          "metadata": {},
          "execution_count": 21
        }
      ]
    },
    {
      "cell_type": "code",
      "metadata": {
        "colab": {
          "base_uri": "https://localhost:8080/"
        },
        "id": "b-p4vYY_e8IW",
        "outputId": "e9750bf5-e9b0-4f48-8c8e-f0908096b588"
      },
      "source": [
        "# Check for Locations distribution\n",
        "loc_dist = data['Location'].unique()\n",
        "print(len(loc_dist))"
      ],
      "execution_count": null,
      "outputs": [
        {
          "output_type": "stream",
          "name": "stdout",
          "text": [
            "13137\n"
          ]
        }
      ]
    },
    {
      "cell_type": "code",
      "metadata": {
        "colab": {
          "base_uri": "https://localhost:8080/"
        },
        "id": "VEKaybU2fMFy",
        "outputId": "c4123d37-dc09-4d7a-f444-bafe08004aa9"
      },
      "source": [
        "#summary of the whole data\n",
        "data.info()"
      ],
      "execution_count": null,
      "outputs": [
        {
          "output_type": "stream",
          "name": "stdout",
          "text": [
            "<class 'pandas.core.frame.DataFrame'>\n",
            "Int64Index: 44955 entries, 0 to 3797\n",
            "Data columns (total 6 columns):\n",
            " #   Column         Non-Null Count  Dtype \n",
            "---  ------         --------------  ----- \n",
            " 0   UserName       44955 non-null  int64 \n",
            " 1   ScreenName     44955 non-null  int64 \n",
            " 2   Location       44955 non-null  object\n",
            " 3   TweetAt        44955 non-null  object\n",
            " 4   OriginalTweet  44955 non-null  object\n",
            " 5   Sentiment      44955 non-null  object\n",
            "dtypes: int64(2), object(4)\n",
            "memory usage: 2.4+ MB\n"
          ]
        }
      ]
    },
    {
      "cell_type": "markdown",
      "metadata": {
        "id": "nINmwZLmffK5"
      },
      "source": [
        "Sentiment distribution"
      ]
    },
    {
      "cell_type": "code",
      "metadata": {
        "id": "DaGUnDzOfYo7"
      },
      "source": [
        "#plot total negative vs total positive\n",
        "pos  = len(data[data['Sentiment'] == 'Positive'])\n",
        "ext_pos = len(data[data['Sentiment'] == 'Extremely Positive'])\n",
        "\n",
        "neut =len(data[data['Sentiment'] == 'Neutral'])\n",
        "\n",
        "neg = len(data[data['Sentiment'] == 'Negative'])\n",
        "ext_neg = len(data[data['Sentiment'] == 'Extremely Negative'])\n",
        "\n",
        "total_positive = pos + ext_pos\n",
        "total_negative = neg + ext_neg\n",
        "\n",
        "tt_label = [\"Total Positive\", \"Neutral\", \"Total Negative\"]\n",
        "tt = [total_positive, neut, total_negative]"
      ],
      "execution_count": null,
      "outputs": []
    },
    {
      "cell_type": "markdown",
      "metadata": {
        "id": "r35U1zabi_4G"
      },
      "source": [
        "visualization"
      ]
    },
    {
      "cell_type": "code",
      "metadata": {
        "colab": {
          "base_uri": "https://localhost:8080/",
          "height": 206
        },
        "id": "EPCzQ55dhKvC",
        "outputId": "32cf5e0f-2200-4644-b119-02f56993aba7"
      },
      "source": [
        "temp = data.groupby('Sentiment').count()['OriginalTweet'].reset_index().sort_values(by='OriginalTweet',ascending=False)\n",
        "temp.style.background_gradient(cmap='Purples')"
      ],
      "execution_count": null,
      "outputs": [
        {
          "output_type": "execute_result",
          "data": {
            "text/html": [
              "<style  type=\"text/css\" >\n",
              "#T_1bc6b260_5680_11ec_b5e6_0242ac1c0002row0_col1{\n",
              "            background-color:  #3f007d;\n",
              "            color:  #f1f1f1;\n",
              "        }#T_1bc6b260_5680_11ec_b5e6_0242ac1c0002row1_col1{\n",
              "            background-color:  #65489f;\n",
              "            color:  #f1f1f1;\n",
              "        }#T_1bc6b260_5680_11ec_b5e6_0242ac1c0002row2_col1{\n",
              "            background-color:  #c0c1de;\n",
              "            color:  #000000;\n",
              "        }#T_1bc6b260_5680_11ec_b5e6_0242ac1c0002row3_col1{\n",
              "            background-color:  #e6e5f1;\n",
              "            color:  #000000;\n",
              "        }#T_1bc6b260_5680_11ec_b5e6_0242ac1c0002row4_col1{\n",
              "            background-color:  #fcfbfd;\n",
              "            color:  #000000;\n",
              "        }</style><table id=\"T_1bc6b260_5680_11ec_b5e6_0242ac1c0002\" class=\"dataframe\"><thead>    <tr>        <th class=\"blank level0\" ></th>        <th class=\"col_heading level0 col0\" >Sentiment</th>        <th class=\"col_heading level0 col1\" >OriginalTweet</th>    </tr></thead><tbody>\n",
              "                <tr>\n",
              "                        <th id=\"T_1bc6b260_5680_11ec_b5e6_0242ac1c0002level0_row0\" class=\"row_heading level0 row0\" >4</th>\n",
              "                        <td id=\"T_1bc6b260_5680_11ec_b5e6_0242ac1c0002row0_col0\" class=\"data row0 col0\" >Positive</td>\n",
              "                        <td id=\"T_1bc6b260_5680_11ec_b5e6_0242ac1c0002row0_col1\" class=\"data row0 col1\" >12369</td>\n",
              "            </tr>\n",
              "            <tr>\n",
              "                        <th id=\"T_1bc6b260_5680_11ec_b5e6_0242ac1c0002level0_row1\" class=\"row_heading level0 row1\" >2</th>\n",
              "                        <td id=\"T_1bc6b260_5680_11ec_b5e6_0242ac1c0002row1_col0\" class=\"data row1 col0\" >Negative</td>\n",
              "                        <td id=\"T_1bc6b260_5680_11ec_b5e6_0242ac1c0002row1_col1\" class=\"data row1 col1\" >10958</td>\n",
              "            </tr>\n",
              "            <tr>\n",
              "                        <th id=\"T_1bc6b260_5680_11ec_b5e6_0242ac1c0002level0_row2\" class=\"row_heading level0 row2\" >3</th>\n",
              "                        <td id=\"T_1bc6b260_5680_11ec_b5e6_0242ac1c0002row2_col0\" class=\"data row2 col0\" >Neutral</td>\n",
              "                        <td id=\"T_1bc6b260_5680_11ec_b5e6_0242ac1c0002row2_col1\" class=\"data row2 col1\" >8332</td>\n",
              "            </tr>\n",
              "            <tr>\n",
              "                        <th id=\"T_1bc6b260_5680_11ec_b5e6_0242ac1c0002level0_row3\" class=\"row_heading level0 row3\" >1</th>\n",
              "                        <td id=\"T_1bc6b260_5680_11ec_b5e6_0242ac1c0002row3_col0\" class=\"data row3 col0\" >Extremely Positive</td>\n",
              "                        <td id=\"T_1bc6b260_5680_11ec_b5e6_0242ac1c0002row3_col1\" class=\"data row3 col1\" >7223</td>\n",
              "            </tr>\n",
              "            <tr>\n",
              "                        <th id=\"T_1bc6b260_5680_11ec_b5e6_0242ac1c0002level0_row4\" class=\"row_heading level0 row4\" >0</th>\n",
              "                        <td id=\"T_1bc6b260_5680_11ec_b5e6_0242ac1c0002row4_col0\" class=\"data row4 col0\" >Extremely Negative</td>\n",
              "                        <td id=\"T_1bc6b260_5680_11ec_b5e6_0242ac1c0002row4_col1\" class=\"data row4 col1\" >6073</td>\n",
              "            </tr>\n",
              "    </tbody></table>"
            ],
            "text/plain": [
              "<pandas.io.formats.style.Styler at 0x7fd707c8e6d0>"
            ]
          },
          "metadata": {},
          "execution_count": 28
        }
      ]
    },
    {
      "cell_type": "code",
      "metadata": {
        "colab": {
          "base_uri": "https://localhost:8080/",
          "height": 248
        },
        "id": "36Zvubzvh8NO",
        "outputId": "785c0b99-40ea-4d88-af17-d064a7b975d2"
      },
      "source": [
        "#plot\n",
        "plt.pie(tt, labels=tt_label, autopct='%1.1f%%')\n",
        "plt.show()"
      ],
      "execution_count": null,
      "outputs": [
        {
          "output_type": "display_data",
          "data": {
            "image/png": "[encoded data removed]",
            "text/plain": [
              "<Figure size 432x288 with 1 Axes>"
            ]
          },
          "metadata": {}
        }
      ]
    },
    {
      "cell_type": "markdown",
      "metadata": {
        "id": "hoBbMi1gir9n"
      },
      "source": [
        "\n",
        "\n",
        "The charts above gives the summary of the whole data categorized into 3 classes.\n",
        "\n",
        "The positive column comprises of the Positive and Extremely positive sentiments which acounts for 43.6% of the total data.\n",
        "\n",
        "The Negative column, with 37.9%, represents the total of the Negative and Extremely Negative sentiments, while the Neutral sentiments representing 18.5% of the total data"
      ]
    },
    {
      "cell_type": "code",
      "metadata": {
        "colab": {
          "base_uri": "https://localhost:8080/",
          "height": 406
        },
        "id": "KAYlFULzh8BC",
        "outputId": "471bab26-d1cf-44af-eed0-2012eb1609f3"
      },
      "source": [
        "plt.figure(figsize=(12,6))\n",
        "sns.countplot(x='Sentiment',data=data)"
      ],
      "execution_count": null,
      "outputs": [
        {
          "output_type": "execute_result",
          "data": {
            "text/plain": [
              "<matplotlib.axes._subplots.AxesSubplot at 0x7fd7076d1350>"
            ]
          },
          "metadata": {},
          "execution_count": 32
        },
        {
          "output_type": "display_data",
          "data": {
            "image/png": "[encoded data removed]",
            "text/plain": [
              "<Figure size 864x432 with 1 Axes>"
            ]
          },
          "metadata": {
            "needs_background": "light"
          }
        }
      ]
    },
    {
      "cell_type": "markdown",
      "metadata": {
        "id": "LGUd2DDQjFL7"
      },
      "source": [
        "A funnel-chart for better visualization"
      ]
    },
    {
      "cell_type": "code",
      "metadata": {
        "colab": {
          "base_uri": "https://localhost:8080/",
          "height": 542
        },
        "id": "x-w5JgadgoNj",
        "outputId": "78cfa0b0-a76f-4fa6-862a-5494455c4983"
      },
      "source": [
        "fig = go.Figure(go.Funnelarea(\n",
        "    text =temp.Sentiment,\n",
        "    values = temp.OriginalTweet,\n",
        "    title = {\"position\": \"top center\", \"text\": \"Funnel-Chart of Sentiment Distribution\"}\n",
        "    ))\n",
        "fig.show()"
      ],
      "execution_count": null,
      "outputs": [
        {
          "output_type": "display_data",
          "data": {
            "text/html": [
              "<html>\n",
              "<head><meta charset=\"utf-8\" /></head>\n",
              "<body>\n",
              "    <div>\n",
              "            <script src=\"https://cdnjs.cloudflare.com/ajax/libs/mathjax/2.7.5/MathJax.js?config=TeX-AMS-MML_SVG\"></script><script type=\"text/javascript\">if (window.MathJax) {MathJax.Hub.Config({SVG: {font: \"STIX-Web\"}});}</script>\n",
              "                <script type=\"text/javascript\">window.PlotlyConfig = {MathJaxConfig: 'local'};</script>\n",
              "        <script src=\"https://cdn.plot.ly/plotly-latest.min.js\"></script>    \n",
              "            <div id=\"5c676165-d8b3-4dbb-b15d-3b283a4b692a\" class=\"plotly-graph-div\" style=\"height:525px; width:100%;\"></div>\n",
              "            <script type=\"text/javascript\">\n",
              "                \n",
              "                    window.PLOTLYENV=window.PLOTLYENV || {};\n",
              "                    \n",
              "                if (document.getElementById(\"5c676165-d8b3-4dbb-b15d-3b283a4b692a\")) {\n",
              "                    Plotly.newPlot(\n",
              "                        '5c676165-d8b3-4dbb-b15d-3b283a4b692a',\n",
              "                        [{\"text\": [\"Positive\", \"Negative\", \"Neutral\", \"Extremely Positive\", \"Extremely Negative\"], \"title\": {\"position\": \"top center\", \"text\": \"Funnel-Chart of Sentiment Distribution\"}, \"type\": \"funnelarea\", \"values\": [12369, 10958, 8332, 7223, 6073]}],\n",
              "                        {\"template\": {\"data\": {\"bar\": [{\"error_x\": {\"color\": \"#2a3f5f\"}, \"error_y\": {\"color\": \"#2a3f5f\"}, \"marker\": {\"line\": {\"color\": \"#E5ECF6\", \"width\": 0.5}}, \"type\": \"bar\"}], \"barpolar\": [{\"marker\": {\"line\": {\"color\": \"#E5ECF6\", \"width\": 0.5}}, \"type\": \"barpolar\"}], \"carpet\": [{\"aaxis\": {\"endlinecolor\": \"#2a3f5f\", \"gridcolor\": \"white\", \"linecolor\": \"white\", \"minorgridcolor\": \"white\", \"startlinecolor\": \"#2a3f5f\"}, \"baxis\": {\"endlinecolor\": \"#2a3f5f\", \"gridcolor\": \"white\", \"linecolor\": \"white\", \"minorgridcolor\": \"white\", \"startlinecolor\": \"#2a3f5f\"}, \"type\": \"carpet\"}], \"choropleth\": [{\"colorbar\": {\"outlinewidth\": 0, \"ticks\": \"\"}, \"type\": \"choropleth\"}], \"contour\": [{\"colorbar\": {\"outlinewidth\": 0, \"ticks\": \"\"}, \"colorscale\": [[0.0, \"#0d0887\"], [0.1111111111111111, \"#46039f\"], [0.2222222222222222, \"#7201a8\"], [0.3333333333333333, \"#9c179e\"], [0.4444444444444444, \"#bd3786\"], [0.5555555555555556, \"#d8576b\"], [0.6666666666666666, \"#ed7953\"], [0.7777777777777778, \"#fb9f3a\"], [0.8888888888888888, \"#fdca26\"], [1.0, \"#f0f921\"]], \"type\": \"contour\"}], \"contourcarpet\": [{\"colorbar\": {\"outlinewidth\": 0, \"ticks\": \"\"}, \"type\": \"contourcarpet\"}], \"heatmap\": [{\"colorbar\": {\"outlinewidth\": 0, \"ticks\": \"\"}, \"colorscale\": [[0.0, \"#0d0887\"], [0.1111111111111111, \"#46039f\"], [0.2222222222222222, \"#7201a8\"], [0.3333333333333333, \"#9c179e\"], [0.4444444444444444, \"#bd3786\"], [0.5555555555555556, \"#d8576b\"], [0.6666666666666666, \"#ed7953\"], [0.7777777777777778, \"#fb9f3a\"], [0.8888888888888888, \"#fdca26\"], [1.0, \"#f0f921\"]], \"type\": \"heatmap\"}], \"heatmapgl\": [{\"colorbar\": {\"outlinewidth\": 0, \"ticks\": \"\"}, \"colorscale\": [[0.0, \"#0d0887\"], [0.1111111111111111, \"#46039f\"], [0.2222222222222222, \"#7201a8\"], [0.3333333333333333, \"#9c179e\"], [0.4444444444444444, \"#bd3786\"], [0.5555555555555556, \"#d8576b\"], [0.6666666666666666, \"#ed7953\"], [0.7777777777777778, \"#fb9f3a\"], [0.8888888888888888, \"#fdca26\"], [1.0, \"#f0f921\"]], \"type\": \"heatmapgl\"}], \"histogram\": [{\"marker\": {\"colorbar\": {\"outlinewidth\": 0, \"ticks\": \"\"}}, \"type\": \"histogram\"}], \"histogram2d\": [{\"colorbar\": {\"outlinewidth\": 0, \"ticks\": \"\"}, \"colorscale\": [[0.0, \"#0d0887\"], [0.1111111111111111, \"#46039f\"], [0.2222222222222222, \"#7201a8\"], [0.3333333333333333, \"#9c179e\"], [0.4444444444444444, \"#bd3786\"], [0.5555555555555556, \"#d8576b\"], [0.6666666666666666, \"#ed7953\"], [0.7777777777777778, \"#fb9f3a\"], [0.8888888888888888, \"#fdca26\"], [1.0, \"#f0f921\"]], \"type\": \"histogram2d\"}], \"histogram2dcontour\": [{\"colorbar\": {\"outlinewidth\": 0, \"ticks\": \"\"}, \"colorscale\": [[0.0, \"#0d0887\"], [0.1111111111111111, \"#46039f\"], [0.2222222222222222, \"#7201a8\"], [0.3333333333333333, \"#9c179e\"], [0.4444444444444444, \"#bd3786\"], [0.5555555555555556, \"#d8576b\"], [0.6666666666666666, \"#ed7953\"], [0.7777777777777778, \"#fb9f3a\"], [0.8888888888888888, \"#fdca26\"], [1.0, \"#f0f921\"]], \"type\": \"histogram2dcontour\"}], \"mesh3d\": [{\"colorbar\": {\"outlinewidth\": 0, \"ticks\": \"\"}, \"type\": \"mesh3d\"}], \"parcoords\": [{\"line\": {\"colorbar\": {\"outlinewidth\": 0, \"ticks\": \"\"}}, \"type\": \"parcoords\"}], \"pie\": [{\"automargin\": true, \"type\": \"pie\"}], \"scatter\": [{\"marker\": {\"colorbar\": {\"outlinewidth\": 0, \"ticks\": \"\"}}, \"type\": \"scatter\"}], \"scatter3d\": [{\"line\": {\"colorbar\": {\"outlinewidth\": 0, \"ticks\": \"\"}}, \"marker\": {\"colorbar\": {\"outlinewidth\": 0, \"ticks\": \"\"}}, \"type\": \"scatter3d\"}], \"scattercarpet\": [{\"marker\": {\"colorbar\": {\"outlinewidth\": 0, \"ticks\": \"\"}}, \"type\": \"scattercarpet\"}], \"scattergeo\": [{\"marker\": {\"colorbar\": {\"outlinewidth\": 0, \"ticks\": \"\"}}, \"type\": \"scattergeo\"}], \"scattergl\": [{\"marker\": {\"colorbar\": {\"outlinewidth\": 0, \"ticks\": \"\"}}, \"type\": \"scattergl\"}], \"scattermapbox\": [{\"marker\": {\"colorbar\": {\"outlinewidth\": 0, \"ticks\": \"\"}}, \"type\": \"scattermapbox\"}], \"scatterpolar\": [{\"marker\": {\"colorbar\": {\"outlinewidth\": 0, \"ticks\": \"\"}}, \"type\": \"scatterpolar\"}], \"scatterpolargl\": [{\"marker\": {\"colorbar\": {\"outlinewidth\": 0, \"ticks\": \"\"}}, \"type\": \"scatterpolargl\"}], \"scatterternary\": [{\"marker\": {\"colorbar\": {\"outlinewidth\": 0, \"ticks\": \"\"}}, \"type\": \"scatterternary\"}], \"surface\": [{\"colorbar\": {\"outlinewidth\": 0, \"ticks\": \"\"}, \"colorscale\": [[0.0, \"#0d0887\"], [0.1111111111111111, \"#46039f\"], [0.2222222222222222, \"#7201a8\"], [0.3333333333333333, \"#9c179e\"], [0.4444444444444444, \"#bd3786\"], [0.5555555555555556, \"#d8576b\"], [0.6666666666666666, \"#ed7953\"], [0.7777777777777778, \"#fb9f3a\"], [0.8888888888888888, \"#fdca26\"], [1.0, \"#f0f921\"]], \"type\": \"surface\"}], \"table\": [{\"cells\": {\"fill\": {\"color\": \"#EBF0F8\"}, \"line\": {\"color\": \"white\"}}, \"header\": {\"fill\": {\"color\": \"#C8D4E3\"}, \"line\": {\"color\": \"white\"}}, \"type\": \"table\"}]}, \"layout\": {\"annotationdefaults\": {\"arrowcolor\": \"#2a3f5f\", \"arrowhead\": 0, \"arrowwidth\": 1}, \"coloraxis\": {\"colorbar\": {\"outlinewidth\": 0, \"ticks\": \"\"}}, \"colorscale\": {\"diverging\": [[0, \"#8e0152\"], [0.1, \"#c51b7d\"], [0.2, \"#de77ae\"], [0.3, \"#f1b6da\"], [0.4, \"#fde0ef\"], [0.5, \"#f7f7f7\"], [0.6, \"#e6f5d0\"], [0.7, \"#b8e186\"], [0.8, \"#7fbc41\"], [0.9, \"#4d9221\"], [1, \"#276419\"]], \"sequential\": [[0.0, \"#0d0887\"], [0.1111111111111111, \"#46039f\"], [0.2222222222222222, \"#7201a8\"], [0.3333333333333333, \"#9c179e\"], [0.4444444444444444, \"#bd3786\"], [0.5555555555555556, \"#d8576b\"], [0.6666666666666666, \"#ed7953\"], [0.7777777777777778, \"#fb9f3a\"], [0.8888888888888888, \"#fdca26\"], [1.0, \"#f0f921\"]], \"sequentialminus\": [[0.0, \"#0d0887\"], [0.1111111111111111, \"#46039f\"], [0.2222222222222222, \"#7201a8\"], [0.3333333333333333, \"#9c179e\"], [0.4444444444444444, \"#bd3786\"], [0.5555555555555556, \"#d8576b\"], [0.6666666666666666, \"#ed7953\"], [0.7777777777777778, \"#fb9f3a\"], [0.8888888888888888, \"#fdca26\"], [1.0, \"#f0f921\"]]}, \"colorway\": [\"#636efa\", \"#EF553B\", \"#00cc96\", \"#ab63fa\", \"#FFA15A\", \"#19d3f3\", \"#FF6692\", \"#B6E880\", \"#FF97FF\", \"#FECB52\"], \"font\": {\"color\": \"#2a3f5f\"}, \"geo\": {\"bgcolor\": \"white\", \"lakecolor\": \"white\", \"landcolor\": \"#E5ECF6\", \"showlakes\": true, \"showland\": true, \"subunitcolor\": \"white\"}, \"hoverlabel\": {\"align\": \"left\"}, \"hovermode\": \"closest\", \"mapbox\": {\"style\": \"light\"}, \"paper_bgcolor\": \"white\", \"plot_bgcolor\": \"#E5ECF6\", \"polar\": {\"angularaxis\": {\"gridcolor\": \"white\", \"linecolor\": \"white\", \"ticks\": \"\"}, \"bgcolor\": \"#E5ECF6\", \"radialaxis\": {\"gridcolor\": \"white\", \"linecolor\": \"white\", \"ticks\": \"\"}}, \"scene\": {\"xaxis\": {\"backgroundcolor\": \"#E5ECF6\", \"gridcolor\": \"white\", \"gridwidth\": 2, \"linecolor\": \"white\", \"showbackground\": true, \"ticks\": \"\", \"zerolinecolor\": \"white\"}, \"yaxis\": {\"backgroundcolor\": \"#E5ECF6\", \"gridcolor\": \"white\", \"gridwidth\": 2, \"linecolor\": \"white\", \"showbackground\": true, \"ticks\": \"\", \"zerolinecolor\": \"white\"}, \"zaxis\": {\"backgroundcolor\": \"#E5ECF6\", \"gridcolor\": \"white\", \"gridwidth\": 2, \"linecolor\": \"white\", \"showbackground\": true, \"ticks\": \"\", \"zerolinecolor\": \"white\"}}, \"shapedefaults\": {\"line\": {\"color\": \"#2a3f5f\"}}, \"ternary\": {\"aaxis\": {\"gridcolor\": \"white\", \"linecolor\": \"white\", \"ticks\": \"\"}, \"baxis\": {\"gridcolor\": \"white\", \"linecolor\": \"white\", \"ticks\": \"\"}, \"bgcolor\": \"#E5ECF6\", \"caxis\": {\"gridcolor\": \"white\", \"linecolor\": \"white\", \"ticks\": \"\"}}, \"title\": {\"x\": 0.05}, \"xaxis\": {\"automargin\": true, \"gridcolor\": \"white\", \"linecolor\": \"white\", \"ticks\": \"\", \"title\": {\"standoff\": 15}, \"zerolinecolor\": \"white\", \"zerolinewidth\": 2}, \"yaxis\": {\"automargin\": true, \"gridcolor\": \"white\", \"linecolor\": \"white\", \"ticks\": \"\", \"title\": {\"standoff\": 15}, \"zerolinecolor\": \"white\", \"zerolinewidth\": 2}}}},\n",
              "                        {\"responsive\": true}\n",
              "                    ).then(function(){\n",
              "                            \n",
              "var gd = document.getElementById('5c676165-d8b3-4dbb-b15d-3b283a4b692a');\n",
              "var x = new MutationObserver(function (mutations, observer) {{\n",
              "        var display = window.getComputedStyle(gd).display;\n",
              "        if (!display || display === 'none') {{\n",
              "            console.log([gd, 'removed!']);\n",
              "            Plotly.purge(gd);\n",
              "            observer.disconnect();\n",
              "        }}\n",
              "}});\n",
              "\n",
              "// Listen for the removal of the full notebook cells\n",
              "var notebookContainer = gd.closest('#notebook-container');\n",
              "if (notebookContainer) {{\n",
              "    x.observe(notebookContainer, {childList: true});\n",
              "}}\n",
              "\n",
              "// Listen for the clearing of the current output cell\n",
              "var outputEl = gd.closest('.output');\n",
              "if (outputEl) {{\n",
              "    x.observe(outputEl, {childList: true});\n",
              "}}\n",
              "\n",
              "                        })\n",
              "                };\n",
              "                \n",
              "            </script>\n",
              "        </div>\n",
              "</body>\n",
              "</html>"
            ]
          },
          "metadata": {}
        }
      ]
    },
    {
      "cell_type": "markdown",
      "metadata": {
        "id": "jPmVlZ_qk8rv"
      },
      "source": [
        "\n",
        "\n",
        "The plots above shows that Positive sentiments has the highest count at 27.5%, closely followed by the Negative sentiments data with 24.4% of the whole data. Neutral opininions occupy the center with about 18.5% of the records. Extremely Positive and Extremely Negative sentiments have values of 16.1% and 13.5% respectively.\n"
      ]
    },
    {
      "cell_type": "code",
      "metadata": {
        "colab": {
          "base_uri": "https://localhost:8080/"
        },
        "id": "94RUq75Kjh8K",
        "outputId": "96b24ffb-bb4b-46fd-ccec-bad8477e1b68"
      },
      "source": [
        "sentiment_count = data['Sentiment'].value_counts()\n",
        "sentiment_count"
      ],
      "execution_count": null,
      "outputs": [
        {
          "output_type": "execute_result",
          "data": {
            "text/plain": [
              "Positive              12369\n",
              "Negative              10958\n",
              "Neutral                8332\n",
              "Extremely Positive     7223\n",
              "Extremely Negative     6073\n",
              "Name: Sentiment, dtype: int64"
            ]
          },
          "metadata": {},
          "execution_count": 34
        }
      ]
    },
    {
      "cell_type": "code",
      "metadata": {
        "colab": {
          "base_uri": "https://localhost:8080/",
          "height": 354
        },
        "id": "aRFu5R6ujq_0",
        "outputId": "35e3002a-a343-4b12-9cb3-adcce457d616"
      },
      "source": [
        "#plot\n",
        "plt.bar(sentiment_count.index,sentiment_count)\n",
        "plt.xticks(rotation=90)\n",
        "plt.show()"
      ],
      "execution_count": null,
      "outputs": [
        {
          "output_type": "display_data",
          "data": {
            "image/png": "[encoded data removed]",
            "text/plain": [
              "<Figure size 432x288 with 1 Axes>"
            ]
          },
          "metadata": {
            "needs_background": "light"
          }
        }
      ]
    },
    {
      "cell_type": "code",
      "metadata": {
        "colab": {
          "base_uri": "https://localhost:8080/",
          "height": 677
        },
        "id": "P96nO6n8kNc5",
        "outputId": "9e162462-015c-436f-c746-abc7f66a007a"
      },
      "source": [
        "#most common words on our targetted original tweet\n",
        "data['temp_list'] = data['OriginalTweet'].apply(lambda x:str(x).split())\n",
        "top = Counter([item for sublist in data['temp_list'] for item in sublist])\n",
        "temp = pd.DataFrame(top.most_common(20))\n",
        "temp.columns = ['Common_words','count']\n",
        "temp.style.background_gradient(cmap='Blues')"
      ],
      "execution_count": null,
      "outputs": [
        {
          "output_type": "execute_result",
          "data": {
            "text/html": [
              "<style  type=\"text/css\" >\n",
              "#T_bc95239c_5681_11ec_b5e6_0242ac1c0002row0_col1{\n",
              "            background-color:  #08306b;\n",
              "            color:  #f1f1f1;\n",
              "        }#T_bc95239c_5681_11ec_b5e6_0242ac1c0002row1_col1{\n",
              "            background-color:  #08468b;\n",
              "            color:  #f1f1f1;\n",
              "        }#T_bc95239c_5681_11ec_b5e6_0242ac1c0002row2_col1{\n",
              "            background-color:  #68acd5;\n",
              "            color:  #000000;\n",
              "        }#T_bc95239c_5681_11ec_b5e6_0242ac1c0002row3_col1{\n",
              "            background-color:  #7fb9da;\n",
              "            color:  #000000;\n",
              "        }#T_bc95239c_5681_11ec_b5e6_0242ac1c0002row4_col1{\n",
              "            background-color:  #a4cce3;\n",
              "            color:  #000000;\n",
              "        }#T_bc95239c_5681_11ec_b5e6_0242ac1c0002row5_col1{\n",
              "            background-color:  #a6cee4;\n",
              "            color:  #000000;\n",
              "        }#T_bc95239c_5681_11ec_b5e6_0242ac1c0002row6_col1{\n",
              "            background-color:  #cbdef1;\n",
              "            color:  #000000;\n",
              "        }#T_bc95239c_5681_11ec_b5e6_0242ac1c0002row7_col1{\n",
              "            background-color:  #d2e3f3;\n",
              "            color:  #000000;\n",
              "        }#T_bc95239c_5681_11ec_b5e6_0242ac1c0002row8_col1{\n",
              "            background-color:  #d4e4f4;\n",
              "            color:  #000000;\n",
              "        }#T_bc95239c_5681_11ec_b5e6_0242ac1c0002row9_col1{\n",
              "            background-color:  #d9e7f5;\n",
              "            color:  #000000;\n",
              "        }#T_bc95239c_5681_11ec_b5e6_0242ac1c0002row10_col1{\n",
              "            background-color:  #e3eef9;\n",
              "            color:  #000000;\n",
              "        }#T_bc95239c_5681_11ec_b5e6_0242ac1c0002row11_col1{\n",
              "            background-color:  #e6f0f9;\n",
              "            color:  #000000;\n",
              "        }#T_bc95239c_5681_11ec_b5e6_0242ac1c0002row12_col1{\n",
              "            background-color:  #eaf3fb;\n",
              "            color:  #000000;\n",
              "        }#T_bc95239c_5681_11ec_b5e6_0242ac1c0002row13_col1{\n",
              "            background-color:  #ecf4fb;\n",
              "            color:  #000000;\n",
              "        }#T_bc95239c_5681_11ec_b5e6_0242ac1c0002row14_col1,#T_bc95239c_5681_11ec_b5e6_0242ac1c0002row15_col1{\n",
              "            background-color:  #f5f9fe;\n",
              "            color:  #000000;\n",
              "        }#T_bc95239c_5681_11ec_b5e6_0242ac1c0002row16_col1,#T_bc95239c_5681_11ec_b5e6_0242ac1c0002row17_col1,#T_bc95239c_5681_11ec_b5e6_0242ac1c0002row18_col1{\n",
              "            background-color:  #f5fafe;\n",
              "            color:  #000000;\n",
              "        }#T_bc95239c_5681_11ec_b5e6_0242ac1c0002row19_col1{\n",
              "            background-color:  #f7fbff;\n",
              "            color:  #000000;\n",
              "        }</style><table id=\"T_bc95239c_5681_11ec_b5e6_0242ac1c0002\" class=\"dataframe\"><thead>    <tr>        <th class=\"blank level0\" ></th>        <th class=\"col_heading level0 col0\" >Common_words</th>        <th class=\"col_heading level0 col1\" >count</th>    </tr></thead><tbody>\n",
              "                <tr>\n",
              "                        <th id=\"T_bc95239c_5681_11ec_b5e6_0242ac1c0002level0_row0\" class=\"row_heading level0 row0\" >0</th>\n",
              "                        <td id=\"T_bc95239c_5681_11ec_b5e6_0242ac1c0002row0_col0\" class=\"data row0 col0\" >the</td>\n",
              "                        <td id=\"T_bc95239c_5681_11ec_b5e6_0242ac1c0002row0_col1\" class=\"data row0 col1\" >44192</td>\n",
              "            </tr>\n",
              "            <tr>\n",
              "                        <th id=\"T_bc95239c_5681_11ec_b5e6_0242ac1c0002level0_row1\" class=\"row_heading level0 row1\" >1</th>\n",
              "                        <td id=\"T_bc95239c_5681_11ec_b5e6_0242ac1c0002row1_col0\" class=\"data row1 col0\" >to</td>\n",
              "                        <td id=\"T_bc95239c_5681_11ec_b5e6_0242ac1c0002row1_col1\" class=\"data row1 col1\" >40961</td>\n",
              "            </tr>\n",
              "            <tr>\n",
              "                        <th id=\"T_bc95239c_5681_11ec_b5e6_0242ac1c0002level0_row2\" class=\"row_heading level0 row2\" >2</th>\n",
              "                        <td id=\"T_bc95239c_5681_11ec_b5e6_0242ac1c0002row2_col0\" class=\"data row2 col0\" >and</td>\n",
              "                        <td id=\"T_bc95239c_5681_11ec_b5e6_0242ac1c0002row2_col1\" class=\"data row2 col1\" >25414</td>\n",
              "            </tr>\n",
              "            <tr>\n",
              "                        <th id=\"T_bc95239c_5681_11ec_b5e6_0242ac1c0002level0_row3\" class=\"row_heading level0 row3\" >3</th>\n",
              "                        <td id=\"T_bc95239c_5681_11ec_b5e6_0242ac1c0002row3_col0\" class=\"data row3 col0\" >of</td>\n",
              "                        <td id=\"T_bc95239c_5681_11ec_b5e6_0242ac1c0002row3_col1\" class=\"data row3 col1\" >23270</td>\n",
              "            </tr>\n",
              "            <tr>\n",
              "                        <th id=\"T_bc95239c_5681_11ec_b5e6_0242ac1c0002level0_row4\" class=\"row_heading level0 row4\" >4</th>\n",
              "                        <td id=\"T_bc95239c_5681_11ec_b5e6_0242ac1c0002row4_col0\" class=\"data row4 col0\" >a</td>\n",
              "                        <td id=\"T_bc95239c_5681_11ec_b5e6_0242ac1c0002row4_col1\" class=\"data row4 col1\" >19641</td>\n",
              "            </tr>\n",
              "            <tr>\n",
              "                        <th id=\"T_bc95239c_5681_11ec_b5e6_0242ac1c0002level0_row5\" class=\"row_heading level0 row5\" >5</th>\n",
              "                        <td id=\"T_bc95239c_5681_11ec_b5e6_0242ac1c0002row5_col0\" class=\"data row5 col0\" >in</td>\n",
              "                        <td id=\"T_bc95239c_5681_11ec_b5e6_0242ac1c0002row5_col1\" class=\"data row5 col1\" >19354</td>\n",
              "            </tr>\n",
              "            <tr>\n",
              "                        <th id=\"T_bc95239c_5681_11ec_b5e6_0242ac1c0002level0_row6\" class=\"row_heading level0 row6\" >6</th>\n",
              "                        <td id=\"T_bc95239c_5681_11ec_b5e6_0242ac1c0002row6_col0\" class=\"data row6 col0\" >for</td>\n",
              "                        <td id=\"T_bc95239c_5681_11ec_b5e6_0242ac1c0002row6_col1\" class=\"data row6 col1\" >14586</td>\n",
              "            </tr>\n",
              "            <tr>\n",
              "                        <th id=\"T_bc95239c_5681_11ec_b5e6_0242ac1c0002level0_row7\" class=\"row_heading level0 row7\" >7</th>\n",
              "                        <td id=\"T_bc95239c_5681_11ec_b5e6_0242ac1c0002row7_col0\" class=\"data row7 col0\" >#coronavirus</td>\n",
              "                        <td id=\"T_bc95239c_5681_11ec_b5e6_0242ac1c0002row7_col1\" class=\"data row7 col1\" >13245</td>\n",
              "            </tr>\n",
              "            <tr>\n",
              "                        <th id=\"T_bc95239c_5681_11ec_b5e6_0242ac1c0002level0_row8\" class=\"row_heading level0 row8\" >8</th>\n",
              "                        <td id=\"T_bc95239c_5681_11ec_b5e6_0242ac1c0002row8_col0\" class=\"data row8 col0\" >is</td>\n",
              "                        <td id=\"T_bc95239c_5681_11ec_b5e6_0242ac1c0002row8_col1\" class=\"data row8 col1\" >12829</td>\n",
              "            </tr>\n",
              "            <tr>\n",
              "                        <th id=\"T_bc95239c_5681_11ec_b5e6_0242ac1c0002level0_row9\" class=\"row_heading level0 row9\" >9</th>\n",
              "                        <td id=\"T_bc95239c_5681_11ec_b5e6_0242ac1c0002row9_col0\" class=\"data row9 col0\" >are</td>\n",
              "                        <td id=\"T_bc95239c_5681_11ec_b5e6_0242ac1c0002row9_col1\" class=\"data row9 col1\" >11852</td>\n",
              "            </tr>\n",
              "            <tr>\n",
              "                        <th id=\"T_bc95239c_5681_11ec_b5e6_0242ac1c0002level0_row10\" class=\"row_heading level0 row10\" >10</th>\n",
              "                        <td id=\"T_bc95239c_5681_11ec_b5e6_0242ac1c0002row10_col0\" class=\"data row10 col0\" >on</td>\n",
              "                        <td id=\"T_bc95239c_5681_11ec_b5e6_0242ac1c0002row10_col1\" class=\"data row10 col1\" >9888</td>\n",
              "            </tr>\n",
              "            <tr>\n",
              "                        <th id=\"T_bc95239c_5681_11ec_b5e6_0242ac1c0002level0_row11\" class=\"row_heading level0 row11\" >11</th>\n",
              "                        <td id=\"T_bc95239c_5681_11ec_b5e6_0242ac1c0002row11_col0\" class=\"data row11 col0\" >I</td>\n",
              "                        <td id=\"T_bc95239c_5681_11ec_b5e6_0242ac1c0002row11_col1\" class=\"data row11 col1\" >9409</td>\n",
              "            </tr>\n",
              "            <tr>\n",
              "                        <th id=\"T_bc95239c_5681_11ec_b5e6_0242ac1c0002level0_row12\" class=\"row_heading level0 row12\" >12</th>\n",
              "                        <td id=\"T_bc95239c_5681_11ec_b5e6_0242ac1c0002row12_col0\" class=\"data row12 col0\" >you</td>\n",
              "                        <td id=\"T_bc95239c_5681_11ec_b5e6_0242ac1c0002row12_col1\" class=\"data row12 col1\" >8489</td>\n",
              "            </tr>\n",
              "            <tr>\n",
              "                        <th id=\"T_bc95239c_5681_11ec_b5e6_0242ac1c0002level0_row13\" class=\"row_heading level0 row13\" >13</th>\n",
              "                        <td id=\"T_bc95239c_5681_11ec_b5e6_0242ac1c0002row13_col0\" class=\"data row13 col0\" >at</td>\n",
              "                        <td id=\"T_bc95239c_5681_11ec_b5e6_0242ac1c0002row13_col1\" class=\"data row13 col1\" >8179</td>\n",
              "            </tr>\n",
              "            <tr>\n",
              "                        <th id=\"T_bc95239c_5681_11ec_b5e6_0242ac1c0002level0_row14\" class=\"row_heading level0 row14\" >14</th>\n",
              "                        <td id=\"T_bc95239c_5681_11ec_b5e6_0242ac1c0002row14_col0\" class=\"data row14 col0\" >with</td>\n",
              "                        <td id=\"T_bc95239c_5681_11ec_b5e6_0242ac1c0002row14_col1\" class=\"data row14 col1\" >6538</td>\n",
              "            </tr>\n",
              "            <tr>\n",
              "                        <th id=\"T_bc95239c_5681_11ec_b5e6_0242ac1c0002level0_row15\" class=\"row_heading level0 row15\" >15</th>\n",
              "                        <td id=\"T_bc95239c_5681_11ec_b5e6_0242ac1c0002row15_col0\" class=\"data row15 col0\" >have</td>\n",
              "                        <td id=\"T_bc95239c_5681_11ec_b5e6_0242ac1c0002row15_col1\" class=\"data row15 col1\" >6517</td>\n",
              "            </tr>\n",
              "            <tr>\n",
              "                        <th id=\"T_bc95239c_5681_11ec_b5e6_0242ac1c0002level0_row16\" class=\"row_heading level0 row16\" >16</th>\n",
              "                        <td id=\"T_bc95239c_5681_11ec_b5e6_0242ac1c0002row16_col0\" class=\"data row16 col0\" >that</td>\n",
              "                        <td id=\"T_bc95239c_5681_11ec_b5e6_0242ac1c0002row16_col1\" class=\"data row16 col1\" >6466</td>\n",
              "            </tr>\n",
              "            <tr>\n",
              "                        <th id=\"T_bc95239c_5681_11ec_b5e6_0242ac1c0002level0_row17\" class=\"row_heading level0 row17\" >17</th>\n",
              "                        <td id=\"T_bc95239c_5681_11ec_b5e6_0242ac1c0002row17_col0\" class=\"data row17 col0\" >prices</td>\n",
              "                        <td id=\"T_bc95239c_5681_11ec_b5e6_0242ac1c0002row17_col1\" class=\"data row17 col1\" >6410</td>\n",
              "            </tr>\n",
              "            <tr>\n",
              "                        <th id=\"T_bc95239c_5681_11ec_b5e6_0242ac1c0002level0_row18\" class=\"row_heading level0 row18\" >18</th>\n",
              "                        <td id=\"T_bc95239c_5681_11ec_b5e6_0242ac1c0002row18_col0\" class=\"data row18 col0\" >this</td>\n",
              "                        <td id=\"T_bc95239c_5681_11ec_b5e6_0242ac1c0002row18_col1\" class=\"data row18 col1\" >6409</td>\n",
              "            </tr>\n",
              "            <tr>\n",
              "                        <th id=\"T_bc95239c_5681_11ec_b5e6_0242ac1c0002level0_row19\" class=\"row_heading level0 row19\" >19</th>\n",
              "                        <td id=\"T_bc95239c_5681_11ec_b5e6_0242ac1c0002row19_col0\" class=\"data row19 col0\" >food</td>\n",
              "                        <td id=\"T_bc95239c_5681_11ec_b5e6_0242ac1c0002row19_col1\" class=\"data row19 col1\" >6023</td>\n",
              "            </tr>\n",
              "    </tbody></table>"
            ],
            "text/plain": [
              "<pandas.io.formats.style.Styler at 0x7fd707c8e0d0>"
            ]
          },
          "metadata": {},
          "execution_count": 37
        }
      ]
    },
    {
      "cell_type": "code",
      "metadata": {
        "colab": {
          "base_uri": "https://localhost:8080/",
          "height": 717
        },
        "id": "5dP-EkmNkk6R",
        "outputId": "93860737-44c4-4d48-c65b-bb49665d4a20"
      },
      "source": [
        "fig = px.bar(temp, x=\"count\", y=\"Common_words\", title='Commmon Words in OriginalTweet ', orientation='h', \n",
        "             width=700, height=700,color='Common_words')\n",
        "fig.show()"
      ],
      "execution_count": null,
      "outputs": [
        {
          "output_type": "display_data",
          "data": {
            "text/html": [
              "<html>\n",
              "<head><meta charset=\"utf-8\" /></head>\n",
              "<body>\n",
              "    <div>\n",
              "            <script src=\"https://cdnjs.cloudflare.com/ajax/libs/mathjax/2.7.5/MathJax.js?config=TeX-AMS-MML_SVG\"></script><script type=\"text/javascript\">if (window.MathJax) {MathJax.Hub.Config({SVG: {font: \"STIX-Web\"}});}</script>\n",
              "                <script type=\"text/javascript\">window.PlotlyConfig = {MathJaxConfig: 'local'};</script>\n",
              "        <script src=\"https://cdn.plot.ly/plotly-latest.min.js\"></script>    \n",
              "            <div id=\"016c0b7b-d3e3-478b-93e5-1fa69acbdb4d\" class=\"plotly-graph-div\" style=\"height:700px; width:700px;\"></div>\n",
              "            <script type=\"text/javascript\">\n",
              "                \n",
              "                    window.PLOTLYENV=window.PLOTLYENV || {};\n",
              "                    \n",
              "                if (document.getElementById(\"016c0b7b-d3e3-478b-93e5-1fa69acbdb4d\")) {\n",
              "                    Plotly.newPlot(\n",
              "                        '016c0b7b-d3e3-478b-93e5-1fa69acbdb4d',\n",
              "                        [{\"alignmentgroup\": \"True\", \"hoverlabel\": {\"namelength\": 0}, \"hovertemplate\": \"Common_words=%{y}<br>count=%{x}\", \"legendgroup\": \"Common_words=the\", \"marker\": {\"color\": \"#636efa\"}, \"name\": \"Common_words=the\", \"offsetgroup\": \"Common_words=the\", \"orientation\": \"h\", \"showlegend\": true, \"textposition\": \"auto\", \"type\": \"bar\", \"x\": [44192], \"xaxis\": \"x\", \"y\": [\"the\"], \"yaxis\": \"y\"}, {\"alignmentgroup\": \"True\", \"hoverlabel\": {\"namelength\": 0}, \"hovertemplate\": \"Common_words=%{y}<br>count=%{x}\", \"legendgroup\": \"Common_words=to\", \"marker\": {\"color\": \"#EF553B\"}, \"name\": \"Common_words=to\", \"offsetgroup\": \"Common_words=to\", \"orientation\": \"h\", \"showlegend\": true, \"textposition\": \"auto\", \"type\": \"bar\", \"x\": [40961], \"xaxis\": \"x\", \"y\": [\"to\"], \"yaxis\": \"y\"}, {\"alignmentgroup\": \"True\", \"hoverlabel\": {\"namelength\": 0}, \"hovertemplate\": \"Common_words=%{y}<br>count=%{x}\", \"legendgroup\": \"Common_words=and\", \"marker\": {\"color\": \"#00cc96\"}, \"name\": \"Common_words=and\", \"offsetgroup\": \"Common_words=and\", \"orientation\": \"h\", \"showlegend\": true, \"textposition\": \"auto\", \"type\": \"bar\", \"x\": [25414], \"xaxis\": \"x\", \"y\": [\"and\"], \"yaxis\": \"y\"}, {\"alignmentgroup\": \"True\", \"hoverlabel\": {\"namelength\": 0}, \"hovertemplate\": \"Common_words=%{y}<br>count=%{x}\", \"legendgroup\": \"Common_words=of\", \"marker\": {\"color\": \"#ab63fa\"}, \"name\": \"Common_words=of\", \"offsetgroup\": \"Common_words=of\", \"orientation\": \"h\", \"showlegend\": true, \"textposition\": \"auto\", \"type\": \"bar\", \"x\": [23270], \"xaxis\": \"x\", \"y\": [\"of\"], \"yaxis\": \"y\"}, {\"alignmentgroup\": \"True\", \"hoverlabel\": {\"namelength\": 0}, \"hovertemplate\": \"Common_words=%{y}<br>count=%{x}\", \"legendgroup\": \"Common_words=a\", \"marker\": {\"color\": \"#FFA15A\"}, \"name\": \"Common_words=a\", \"offsetgroup\": \"Common_words=a\", \"orientation\": \"h\", \"showlegend\": true, \"textposition\": \"auto\", \"type\": \"bar\", \"x\": [19641], \"xaxis\": \"x\", \"y\": [\"a\"], \"yaxis\": \"y\"}, {\"alignmentgroup\": \"True\", \"hoverlabel\": {\"namelength\": 0}, \"hovertemplate\": \"Common_words=%{y}<br>count=%{x}\", \"legendgroup\": \"Common_words=in\", \"marker\": {\"color\": \"#19d3f3\"}, \"name\": \"Common_words=in\", \"offsetgroup\": \"Common_words=in\", \"orientation\": \"h\", \"showlegend\": true, \"textposition\": \"auto\", \"type\": \"bar\", \"x\": [19354], \"xaxis\": \"x\", \"y\": [\"in\"], \"yaxis\": \"y\"}, {\"alignmentgroup\": \"True\", \"hoverlabel\": {\"namelength\": 0}, \"hovertemplate\": \"Common_words=%{y}<br>count=%{x}\", \"legendgroup\": \"Common_words=for\", \"marker\": {\"color\": \"#FF6692\"}, \"name\": \"Common_words=for\", \"offsetgroup\": \"Common_words=for\", \"orientation\": \"h\", \"showlegend\": true, \"textposition\": \"auto\", \"type\": \"bar\", \"x\": [14586], \"xaxis\": \"x\", \"y\": [\"for\"], \"yaxis\": \"y\"}, {\"alignmentgroup\": \"True\", \"hoverlabel\": {\"namelength\": 0}, \"hovertemplate\": \"Common_words=%{y}<br>count=%{x}\", \"legendgroup\": \"Common_words=#coronavirus\", \"marker\": {\"color\": \"#B6E880\"}, \"name\": \"Common_words=#coronavirus\", \"offsetgroup\": \"Common_words=#coronavirus\", \"orientation\": \"h\", \"showlegend\": true, \"textposition\": \"auto\", \"type\": \"bar\", \"x\": [13245], \"xaxis\": \"x\", \"y\": [\"#coronavirus\"], \"yaxis\": \"y\"}, {\"alignmentgroup\": \"True\", \"hoverlabel\": {\"namelength\": 0}, \"hovertemplate\": \"Common_words=%{y}<br>count=%{x}\", \"legendgroup\": \"Common_words=is\", \"marker\": {\"color\": \"#FF97FF\"}, \"name\": \"Common_words=is\", \"offsetgroup\": \"Common_words=is\", \"orientation\": \"h\", \"showlegend\": true, \"textposition\": \"auto\", \"type\": \"bar\", \"x\": [12829], \"xaxis\": \"x\", \"y\": [\"is\"], \"yaxis\": \"y\"}, {\"alignmentgroup\": \"True\", \"hoverlabel\": {\"namelength\": 0}, \"hovertemplate\": \"Common_words=%{y}<br>count=%{x}\", \"legendgroup\": \"Common_words=are\", \"marker\": {\"color\": \"#FECB52\"}, \"name\": \"Common_words=are\", \"offsetgroup\": \"Common_words=are\", \"orientation\": \"h\", \"showlegend\": true, \"textposition\": \"auto\", \"type\": \"bar\", \"x\": [11852], \"xaxis\": \"x\", \"y\": [\"are\"], \"yaxis\": \"y\"}, {\"alignmentgroup\": \"True\", \"hoverlabel\": {\"namelength\": 0}, \"hovertemplate\": \"Common_words=%{y}<br>count=%{x}\", \"legendgroup\": \"Common_words=on\", \"marker\": {\"color\": \"#636efa\"}, \"name\": \"Common_words=on\", \"offsetgroup\": \"Common_words=on\", \"orientation\": \"h\", \"showlegend\": true, \"textposition\": \"auto\", \"type\": \"bar\", \"x\": [9888], \"xaxis\": \"x\", \"y\": [\"on\"], \"yaxis\": \"y\"}, {\"alignmentgroup\": \"True\", \"hoverlabel\": {\"namelength\": 0}, \"hovertemplate\": \"Common_words=%{y}<br>count=%{x}\", \"legendgroup\": \"Common_words=I\", \"marker\": {\"color\": \"#EF553B\"}, \"name\": \"Common_words=I\", \"offsetgroup\": \"Common_words=I\", \"orientation\": \"h\", \"showlegend\": true, \"textposition\": \"auto\", \"type\": \"bar\", \"x\": [9409], \"xaxis\": \"x\", \"y\": [\"I\"], \"yaxis\": \"y\"}, {\"alignmentgroup\": \"True\", \"hoverlabel\": {\"namelength\": 0}, \"hovertemplate\": \"Common_words=%{y}<br>count=%{x}\", \"legendgroup\": \"Common_words=you\", \"marker\": {\"color\": \"#00cc96\"}, \"name\": \"Common_words=you\", \"offsetgroup\": \"Common_words=you\", \"orientation\": \"h\", \"showlegend\": true, \"textposition\": \"auto\", \"type\": \"bar\", \"x\": [8489], \"xaxis\": \"x\", \"y\": [\"you\"], \"yaxis\": \"y\"}, {\"alignmentgroup\": \"True\", \"hoverlabel\": {\"namelength\": 0}, \"hovertemplate\": \"Common_words=%{y}<br>count=%{x}\", \"legendgroup\": \"Common_words=at\", \"marker\": {\"color\": \"#ab63fa\"}, \"name\": \"Common_words=at\", \"offsetgroup\": \"Common_words=at\", \"orientation\": \"h\", \"showlegend\": true, \"textposition\": \"auto\", \"type\": \"bar\", \"x\": [8179], \"xaxis\": \"x\", \"y\": [\"at\"], \"yaxis\": \"y\"}, {\"alignmentgroup\": \"True\", \"hoverlabel\": {\"namelength\": 0}, \"hovertemplate\": \"Common_words=%{y}<br>count=%{x}\", \"legendgroup\": \"Common_words=with\", \"marker\": {\"color\": \"#FFA15A\"}, \"name\": \"Common_words=with\", \"offsetgroup\": \"Common_words=with\", \"orientation\": \"h\", \"showlegend\": true, \"textposition\": \"auto\", \"type\": \"bar\", \"x\": [6538], \"xaxis\": \"x\", \"y\": [\"with\"], \"yaxis\": \"y\"}, {\"alignmentgroup\": \"True\", \"hoverlabel\": {\"namelength\": 0}, \"hovertemplate\": \"Common_words=%{y}<br>count=%{x}\", \"legendgroup\": \"Common_words=have\", \"marker\": {\"color\": \"#19d3f3\"}, \"name\": \"Common_words=have\", \"offsetgroup\": \"Common_words=have\", \"orientation\": \"h\", \"showlegend\": true, \"textposition\": \"auto\", \"type\": \"bar\", \"x\": [6517], \"xaxis\": \"x\", \"y\": [\"have\"], \"yaxis\": \"y\"}, {\"alignmentgroup\": \"True\", \"hoverlabel\": {\"namelength\": 0}, \"hovertemplate\": \"Common_words=%{y}<br>count=%{x}\", \"legendgroup\": \"Common_words=that\", \"marker\": {\"color\": \"#FF6692\"}, \"name\": \"Common_words=that\", \"offsetgroup\": \"Common_words=that\", \"orientation\": \"h\", \"showlegend\": true, \"textposition\": \"auto\", \"type\": \"bar\", \"x\": [6466], \"xaxis\": \"x\", \"y\": [\"that\"], \"yaxis\": \"y\"}, {\"alignmentgroup\": \"True\", \"hoverlabel\": {\"namelength\": 0}, \"hovertemplate\": \"Common_words=%{y}<br>count=%{x}\", \"legendgroup\": \"Common_words=prices\", \"marker\": {\"color\": \"#B6E880\"}, \"name\": \"Common_words=prices\", \"offsetgroup\": \"Common_words=prices\", \"orientation\": \"h\", \"showlegend\": true, \"textposition\": \"auto\", \"type\": \"bar\", \"x\": [6410], \"xaxis\": \"x\", \"y\": [\"prices\"], \"yaxis\": \"y\"}, {\"alignmentgroup\": \"True\", \"hoverlabel\": {\"namelength\": 0}, \"hovertemplate\": \"Common_words=%{y}<br>count=%{x}\", \"legendgroup\": \"Common_words=this\", \"marker\": {\"color\": \"#FF97FF\"}, \"name\": \"Common_words=this\", \"offsetgroup\": \"Common_words=this\", \"orientation\": \"h\", \"showlegend\": true, \"textposition\": \"auto\", \"type\": \"bar\", \"x\": [6409], \"xaxis\": \"x\", \"y\": [\"this\"], \"yaxis\": \"y\"}, {\"alignmentgroup\": \"True\", \"hoverlabel\": {\"namelength\": 0}, \"hovertemplate\": \"Common_words=%{y}<br>count=%{x}\", \"legendgroup\": \"Common_words=food\", \"marker\": {\"color\": \"#FECB52\"}, \"name\": \"Common_words=food\", \"offsetgroup\": \"Common_words=food\", \"orientation\": \"h\", \"showlegend\": true, \"textposition\": \"auto\", \"type\": \"bar\", \"x\": [6023], \"xaxis\": \"x\", \"y\": [\"food\"], \"yaxis\": \"y\"}],\n",
              "                        {\"barmode\": \"relative\", \"height\": 700, \"legend\": {\"tracegroupgap\": 0}, \"template\": {\"data\": {\"bar\": [{\"error_x\": {\"color\": \"#2a3f5f\"}, \"error_y\": {\"color\": \"#2a3f5f\"}, \"marker\": {\"line\": {\"color\": \"#E5ECF6\", \"width\": 0.5}}, \"type\": \"bar\"}], \"barpolar\": [{\"marker\": {\"line\": {\"color\": \"#E5ECF6\", \"width\": 0.5}}, \"type\": \"barpolar\"}], \"carpet\": [{\"aaxis\": {\"endlinecolor\": \"#2a3f5f\", \"gridcolor\": \"white\", \"linecolor\": \"white\", \"minorgridcolor\": \"white\", \"startlinecolor\": \"#2a3f5f\"}, \"baxis\": {\"endlinecolor\": \"#2a3f5f\", \"gridcolor\": \"white\", \"linecolor\": \"white\", \"minorgridcolor\": \"white\", \"startlinecolor\": \"#2a3f5f\"}, \"type\": \"carpet\"}], \"choropleth\": [{\"colorbar\": {\"outlinewidth\": 0, \"ticks\": \"\"}, \"type\": \"choropleth\"}], \"contour\": [{\"colorbar\": {\"outlinewidth\": 0, \"ticks\": \"\"}, \"colorscale\": [[0.0, \"#0d0887\"], [0.1111111111111111, \"#46039f\"], [0.2222222222222222, \"#7201a8\"], [0.3333333333333333, \"#9c179e\"], [0.4444444444444444, \"#bd3786\"], [0.5555555555555556, \"#d8576b\"], [0.6666666666666666, \"#ed7953\"], [0.7777777777777778, \"#fb9f3a\"], [0.8888888888888888, \"#fdca26\"], [1.0, \"#f0f921\"]], \"type\": \"contour\"}], \"contourcarpet\": [{\"colorbar\": {\"outlinewidth\": 0, \"ticks\": \"\"}, \"type\": \"contourcarpet\"}], \"heatmap\": [{\"colorbar\": {\"outlinewidth\": 0, \"ticks\": \"\"}, \"colorscale\": [[0.0, \"#0d0887\"], [0.1111111111111111, \"#46039f\"], [0.2222222222222222, \"#7201a8\"], [0.3333333333333333, \"#9c179e\"], [0.4444444444444444, \"#bd3786\"], [0.5555555555555556, \"#d8576b\"], [0.6666666666666666, \"#ed7953\"], [0.7777777777777778, \"#fb9f3a\"], [0.8888888888888888, \"#fdca26\"], [1.0, \"#f0f921\"]], \"type\": \"heatmap\"}], \"heatmapgl\": [{\"colorbar\": {\"outlinewidth\": 0, \"ticks\": \"\"}, \"colorscale\": [[0.0, \"#0d0887\"], [0.1111111111111111, \"#46039f\"], [0.2222222222222222, \"#7201a8\"], [0.3333333333333333, \"#9c179e\"], [0.4444444444444444, \"#bd3786\"], [0.5555555555555556, \"#d8576b\"], [0.6666666666666666, \"#ed7953\"], [0.7777777777777778, \"#fb9f3a\"], [0.8888888888888888, \"#fdca26\"], [1.0, \"#f0f921\"]], \"type\": \"heatmapgl\"}], \"histogram\": [{\"marker\": {\"colorbar\": {\"outlinewidth\": 0, \"ticks\": \"\"}}, \"type\": \"histogram\"}], \"histogram2d\": [{\"colorbar\": {\"outlinewidth\": 0, \"ticks\": \"\"}, \"colorscale\": [[0.0, \"#0d0887\"], [0.1111111111111111, \"#46039f\"], [0.2222222222222222, \"#7201a8\"], [0.3333333333333333, \"#9c179e\"], [0.4444444444444444, \"#bd3786\"], [0.5555555555555556, \"#d8576b\"], [0.6666666666666666, \"#ed7953\"], [0.7777777777777778, \"#fb9f3a\"], [0.8888888888888888, \"#fdca26\"], [1.0, \"#f0f921\"]], \"type\": \"histogram2d\"}], \"histogram2dcontour\": [{\"colorbar\": {\"outlinewidth\": 0, \"ticks\": \"\"}, \"colorscale\": [[0.0, \"#0d0887\"], [0.1111111111111111, \"#46039f\"], [0.2222222222222222, \"#7201a8\"], [0.3333333333333333, \"#9c179e\"], [0.4444444444444444, \"#bd3786\"], [0.5555555555555556, \"#d8576b\"], [0.6666666666666666, \"#ed7953\"], [0.7777777777777778, \"#fb9f3a\"], [0.8888888888888888, \"#fdca26\"], [1.0, \"#f0f921\"]], \"type\": \"histogram2dcontour\"}], \"mesh3d\": [{\"colorbar\": {\"outlinewidth\": 0, \"ticks\": \"\"}, \"type\": \"mesh3d\"}], \"parcoords\": [{\"line\": {\"colorbar\": {\"outlinewidth\": 0, \"ticks\": \"\"}}, \"type\": \"parcoords\"}], \"pie\": [{\"automargin\": true, \"type\": \"pie\"}], \"scatter\": [{\"marker\": {\"colorbar\": {\"outlinewidth\": 0, \"ticks\": \"\"}}, \"type\": \"scatter\"}], \"scatter3d\": [{\"line\": {\"colorbar\": {\"outlinewidth\": 0, \"ticks\": \"\"}}, \"marker\": {\"colorbar\": {\"outlinewidth\": 0, \"ticks\": \"\"}}, \"type\": \"scatter3d\"}], \"scattercarpet\": [{\"marker\": {\"colorbar\": {\"outlinewidth\": 0, \"ticks\": \"\"}}, \"type\": \"scattercarpet\"}], \"scattergeo\": [{\"marker\": {\"colorbar\": {\"outlinewidth\": 0, \"ticks\": \"\"}}, \"type\": \"scattergeo\"}], \"scattergl\": [{\"marker\": {\"colorbar\": {\"outlinewidth\": 0, \"ticks\": \"\"}}, \"type\": \"scattergl\"}], \"scattermapbox\": [{\"marker\": {\"colorbar\": {\"outlinewidth\": 0, \"ticks\": \"\"}}, \"type\": \"scattermapbox\"}], \"scatterpolar\": [{\"marker\": {\"colorbar\": {\"outlinewidth\": 0, \"ticks\": \"\"}}, \"type\": \"scatterpolar\"}], \"scatterpolargl\": [{\"marker\": {\"colorbar\": {\"outlinewidth\": 0, \"ticks\": \"\"}}, \"type\": \"scatterpolargl\"}], \"scatterternary\": [{\"marker\": {\"colorbar\": {\"outlinewidth\": 0, \"ticks\": \"\"}}, \"type\": \"scatterternary\"}], \"surface\": [{\"colorbar\": {\"outlinewidth\": 0, \"ticks\": \"\"}, \"colorscale\": [[0.0, \"#0d0887\"], [0.1111111111111111, \"#46039f\"], [0.2222222222222222, \"#7201a8\"], [0.3333333333333333, \"#9c179e\"], [0.4444444444444444, \"#bd3786\"], [0.5555555555555556, \"#d8576b\"], [0.6666666666666666, \"#ed7953\"], [0.7777777777777778, \"#fb9f3a\"], [0.8888888888888888, \"#fdca26\"], [1.0, \"#f0f921\"]], \"type\": \"surface\"}], \"table\": [{\"cells\": {\"fill\": {\"color\": \"#EBF0F8\"}, \"line\": {\"color\": \"white\"}}, \"header\": {\"fill\": {\"color\": \"#C8D4E3\"}, \"line\": {\"color\": \"white\"}}, \"type\": \"table\"}]}, \"layout\": {\"annotationdefaults\": {\"arrowcolor\": \"#2a3f5f\", \"arrowhead\": 0, \"arrowwidth\": 1}, \"coloraxis\": {\"colorbar\": {\"outlinewidth\": 0, \"ticks\": \"\"}}, \"colorscale\": {\"diverging\": [[0, \"#8e0152\"], [0.1, \"#c51b7d\"], [0.2, \"#de77ae\"], [0.3, \"#f1b6da\"], [0.4, \"#fde0ef\"], [0.5, \"#f7f7f7\"], [0.6, \"#e6f5d0\"], [0.7, \"#b8e186\"], [0.8, \"#7fbc41\"], [0.9, \"#4d9221\"], [1, \"#276419\"]], \"sequential\": [[0.0, \"#0d0887\"], [0.1111111111111111, \"#46039f\"], [0.2222222222222222, \"#7201a8\"], [0.3333333333333333, \"#9c179e\"], [0.4444444444444444, \"#bd3786\"], [0.5555555555555556, \"#d8576b\"], [0.6666666666666666, \"#ed7953\"], [0.7777777777777778, \"#fb9f3a\"], [0.8888888888888888, \"#fdca26\"], [1.0, \"#f0f921\"]], \"sequentialminus\": [[0.0, \"#0d0887\"], [0.1111111111111111, \"#46039f\"], [0.2222222222222222, \"#7201a8\"], [0.3333333333333333, \"#9c179e\"], [0.4444444444444444, \"#bd3786\"], [0.5555555555555556, \"#d8576b\"], [0.6666666666666666, \"#ed7953\"], [0.7777777777777778, \"#fb9f3a\"], [0.8888888888888888, \"#fdca26\"], [1.0, \"#f0f921\"]]}, \"colorway\": [\"#636efa\", \"#EF553B\", \"#00cc96\", \"#ab63fa\", \"#FFA15A\", \"#19d3f3\", \"#FF6692\", \"#B6E880\", \"#FF97FF\", \"#FECB52\"], \"font\": {\"color\": \"#2a3f5f\"}, \"geo\": {\"bgcolor\": \"white\", \"lakecolor\": \"white\", \"landcolor\": \"#E5ECF6\", \"showlakes\": true, \"showland\": true, \"subunitcolor\": \"white\"}, \"hoverlabel\": {\"align\": \"left\"}, \"hovermode\": \"closest\", \"mapbox\": {\"style\": \"light\"}, \"paper_bgcolor\": \"white\", \"plot_bgcolor\": \"#E5ECF6\", \"polar\": {\"angularaxis\": {\"gridcolor\": \"white\", \"linecolor\": \"white\", \"ticks\": \"\"}, \"bgcolor\": \"#E5ECF6\", \"radialaxis\": {\"gridcolor\": \"white\", \"linecolor\": \"white\", \"ticks\": \"\"}}, \"scene\": {\"xaxis\": {\"backgroundcolor\": \"#E5ECF6\", \"gridcolor\": \"white\", \"gridwidth\": 2, \"linecolor\": \"white\", \"showbackground\": true, \"ticks\": \"\", \"zerolinecolor\": \"white\"}, \"yaxis\": {\"backgroundcolor\": \"#E5ECF6\", \"gridcolor\": \"white\", \"gridwidth\": 2, \"linecolor\": \"white\", \"showbackground\": true, \"ticks\": \"\", \"zerolinecolor\": \"white\"}, \"zaxis\": {\"backgroundcolor\": \"#E5ECF6\", \"gridcolor\": \"white\", \"gridwidth\": 2, \"linecolor\": \"white\", \"showbackground\": true, \"ticks\": \"\", \"zerolinecolor\": \"white\"}}, \"shapedefaults\": {\"line\": {\"color\": \"#2a3f5f\"}}, \"ternary\": {\"aaxis\": {\"gridcolor\": \"white\", \"linecolor\": \"white\", \"ticks\": \"\"}, \"baxis\": {\"gridcolor\": \"white\", \"linecolor\": \"white\", \"ticks\": \"\"}, \"bgcolor\": \"#E5ECF6\", \"caxis\": {\"gridcolor\": \"white\", \"linecolor\": \"white\", \"ticks\": \"\"}}, \"title\": {\"x\": 0.05}, \"xaxis\": {\"automargin\": true, \"gridcolor\": \"white\", \"linecolor\": \"white\", \"ticks\": \"\", \"title\": {\"standoff\": 15}, \"zerolinecolor\": \"white\", \"zerolinewidth\": 2}, \"yaxis\": {\"automargin\": true, \"gridcolor\": \"white\", \"linecolor\": \"white\", \"ticks\": \"\", \"title\": {\"standoff\": 15}, \"zerolinecolor\": \"white\", \"zerolinewidth\": 2}}}, \"title\": {\"text\": \"Commmon Words in OriginalTweet \"}, \"width\": 700, \"xaxis\": {\"anchor\": \"y\", \"domain\": [0.0, 1.0], \"title\": {\"text\": \"count\"}}, \"yaxis\": {\"anchor\": \"x\", \"categoryarray\": [\"food\", \"this\", \"prices\", \"that\", \"have\", \"with\", \"at\", \"you\", \"I\", \"on\", \"are\", \"is\", \"#coronavirus\", \"for\", \"in\", \"a\", \"of\", \"and\", \"to\", \"the\"], \"categoryorder\": \"array\", \"domain\": [0.0, 1.0], \"title\": {\"text\": \"Common_words\"}}},\n",
              "                        {\"responsive\": true}\n",
              "                    ).then(function(){\n",
              "                            \n",
              "var gd = document.getElementById('016c0b7b-d3e3-478b-93e5-1fa69acbdb4d');\n",
              "var x = new MutationObserver(function (mutations, observer) {{\n",
              "        var display = window.getComputedStyle(gd).display;\n",
              "        if (!display || display === 'none') {{\n",
              "            console.log([gd, 'removed!']);\n",
              "            Plotly.purge(gd);\n",
              "            observer.disconnect();\n",
              "        }}\n",
              "}});\n",
              "\n",
              "// Listen for the removal of the full notebook cells\n",
              "var notebookContainer = gd.closest('#notebook-container');\n",
              "if (notebookContainer) {{\n",
              "    x.observe(notebookContainer, {childList: true});\n",
              "}}\n",
              "\n",
              "// Listen for the clearing of the current output cell\n",
              "var outputEl = gd.closest('.output');\n",
              "if (outputEl) {{\n",
              "    x.observe(outputEl, {childList: true});\n",
              "}}\n",
              "\n",
              "                        })\n",
              "                };\n",
              "                \n",
              "            </script>\n",
              "        </div>\n",
              "</body>\n",
              "</html>"
            ]
          },
          "metadata": {}
        }
      ]
    },
    {
      "cell_type": "code",
      "metadata": {
        "colab": {
          "base_uri": "https://localhost:8080/"
        },
        "id": "xTp_kujvkkso",
        "outputId": "cde2e183-1ae8-45d7-830a-3795a706074c"
      },
      "source": [
        "#time series - start of date and end date - line plot frequency of positive and negative\n",
        "day_total = data['TweetAt'].unique()\n",
        "print(day_total)"
      ],
      "execution_count": null,
      "outputs": [
        {
          "output_type": "stream",
          "name": "stdout",
          "text": [
            "['16-03-2020' '17-03-2020' '18-03-2020' '19-03-2020' '20-03-2020'\n",
            " '21-03-2020' '22-03-2020' '23-03-2020' '24-03-2020' '25-03-2020'\n",
            " '26-03-2020' '27-03-2020' '28-03-2020' '29-03-2020' '30-03-2020'\n",
            " '31-03-2020' '01-04-2020' '02-04-2020' '03-04-2020' '04-04-2020'\n",
            " '05-04-2020' '06-04-2020' '07-04-2020' '08-04-2020' '09-04-2020'\n",
            " '10-04-2020' '11-04-2020' '12-04-2020' '13-04-2020' '14-04-2020'\n",
            " '02-03-2020' '03-03-2020' '04-03-2020' '05-03-2020' '06-03-2020'\n",
            " '07-03-2020' '08-03-2020' '09-03-2020' '10-03-2020' '11-03-2020'\n",
            " '12-03-2020' '13-03-2020' '14-03-2020' '15-03-2020']\n"
          ]
        }
      ]
    },
    {
      "cell_type": "markdown",
      "metadata": {
        "id": "vHTcoPHEldmv"
      },
      "source": [
        "Modelling\n",
        "\n",
        "\n",
        "\n",
        "\n",
        "Logistic Regresson"
      ]
    },
    {
      "cell_type": "code",
      "metadata": {
        "id": "TQyhkrcalZ78"
      },
      "source": [
        "#vectorizer:\n",
        "from sklearn.feature_extraction.text import CountVectorizer\n",
        "vectorizer = CountVectorizer(token_pattern=r'\\b\\w+\\b')\n",
        "train_matrix = vectorizer.fit_transform(train['OriginalTweet'])\n",
        "test_matrix = vectorizer.transform(test['OriginalTweet'])"
      ],
      "execution_count": null,
      "outputs": []
    },
    {
      "cell_type": "code",
      "metadata": {
        "id": "tjoEsiodkkem"
      },
      "source": [
        "X_train1 = train_matrix\n",
        "X_test1 = test_matrix\n",
        "#y_train = train['sentiment']\n",
        "#y_test = test['sentiment']"
      ],
      "execution_count": null,
      "outputs": []
    },
    {
      "cell_type": "code",
      "metadata": {
        "id": "n-9r5je_l0Bo"
      },
      "source": [
        "from sklearn import preprocessing\n",
        "le = preprocessing.LabelEncoder()\n",
        "\n",
        "lab = train['Sentiment']\n",
        "y_train1 = le.fit_transform(lab)\n",
        "y_test1 = le.fit_transform(test['Sentiment'])\n",
        "\n"
      ],
      "execution_count": null,
      "outputs": []
    },
    {
      "cell_type": "code",
      "metadata": {
        "id": "3-DCH3kAlzwj"
      },
      "source": [
        "#The model\n",
        "lr = LogisticRegression(max_iter=10000)"
      ],
      "execution_count": null,
      "outputs": []
    },
    {
      "cell_type": "code",
      "metadata": {
        "colab": {
          "base_uri": "https://localhost:8080/"
        },
        "id": "pt11kcFmlzg4",
        "outputId": "0b1fd904-7492-49bf-abd4-50269149a8de"
      },
      "source": [
        "#Training the model\n",
        "lr.fit(X_train1,y_train1)"
      ],
      "execution_count": null,
      "outputs": [
        {
          "output_type": "execute_result",
          "data": {
            "text/plain": [
              "LogisticRegression(max_iter=10000)"
            ]
          },
          "metadata": {},
          "execution_count": 44
        }
      ]
    },
    {
      "cell_type": "code",
      "metadata": {
        "id": "jOuorPMXlzOn"
      },
      "source": [
        "#Make predictions\n",
        "predictions1 = lr.predict(X_test1)"
      ],
      "execution_count": null,
      "outputs": []
    },
    {
      "cell_type": "code",
      "metadata": {
        "colab": {
          "base_uri": "https://localhost:8080/"
        },
        "id": "N5x5ek1vmjFH",
        "outputId": "180b0ec1-e230-45d3-c148-08928ba95c39"
      },
      "source": [
        "print(predictions1[:10])"
      ],
      "execution_count": null,
      "outputs": [
        {
          "output_type": "stream",
          "name": "stdout",
          "text": [
            "[3 4 4 2 3 3 4 2 0 4]\n"
          ]
        }
      ]
    },
    {
      "cell_type": "code",
      "metadata": {
        "colab": {
          "base_uri": "https://localhost:8080/"
        },
        "id": "beFcNGAkmi_c",
        "outputId": "33accbab-8abb-4084-b0ec-697a1ccc1f5c"
      },
      "source": [
        "#Show the results of the predictions\n",
        "lab_names = test['Sentiment'].unique()\n",
        "lab_names[predictions1[:10]]"
      ],
      "execution_count": null,
      "outputs": [
        {
          "output_type": "execute_result",
          "data": {
            "text/plain": [
              "array(['Negative', 'Neutral', 'Neutral', 'Extremely Positive', 'Negative',\n",
              "       'Negative', 'Neutral', 'Extremely Positive', 'Extremely Negative',\n",
              "       'Neutral'], dtype=object)"
            ]
          },
          "metadata": {},
          "execution_count": 47
        }
      ]
    },
    {
      "cell_type": "code",
      "metadata": {
        "colab": {
          "base_uri": "https://localhost:8080/"
        },
        "id": "0VKtQqCKmi6x",
        "outputId": "9579edac-1dd8-4301-946f-a2a894363af0"
      },
      "source": [
        "# find accuracy, precision, recall:\n",
        "from sklearn.metrics import confusion_matrix,classification_report\n",
        "new = np.asarray(y_test1)\n",
        "confusion_matrix(predictions1,y_test1)"
      ],
      "execution_count": null,
      "outputs": [
        {
          "output_type": "execute_result",
          "data": {
            "text/plain": [
              "array([[331,   5, 134,   7,  23],\n",
              "       [  6, 367,  25,   7, 110],\n",
              "       [218,  20, 584,  86, 127],\n",
              "       [ 13,   7, 122, 443,  89],\n",
              "       [ 24, 200, 176,  76, 598]])"
            ]
          },
          "metadata": {},
          "execution_count": 48
        }
      ]
    },
    {
      "cell_type": "code",
      "metadata": {
        "colab": {
          "base_uri": "https://localhost:8080/"
        },
        "id": "Z-A5_iqwmi11",
        "outputId": "23b671ee-d24b-46af-d585-0c74e736b2dc"
      },
      "source": [
        "print(classification_report(predictions1,y_test1))"
      ],
      "execution_count": null,
      "outputs": [
        {
          "output_type": "stream",
          "name": "stdout",
          "text": [
            "              precision    recall  f1-score   support\n",
            "\n",
            "           0       0.56      0.66      0.61       500\n",
            "           1       0.61      0.71      0.66       515\n",
            "           2       0.56      0.56      0.56      1035\n",
            "           3       0.72      0.66      0.69       674\n",
            "           4       0.63      0.56      0.59      1074\n",
            "\n",
            "    accuracy                           0.61      3798\n",
            "   macro avg       0.62      0.63      0.62      3798\n",
            "weighted avg       0.62      0.61      0.61      3798\n",
            "\n"
          ]
        }
      ]
    },
    {
      "cell_type": "markdown",
      "metadata": {
        "id": "whVW9yhdm9-W"
      },
      "source": [
        "\n",
        "\n",
        "LSTM\n"
      ]
    },
    {
      "cell_type": "code",
      "metadata": {
        "colab": {
          "base_uri": "https://localhost:8080/"
        },
        "id": "uoRDRLYSmiwT",
        "outputId": "c253f376-1cf1-45c8-c8bf-f8c30dd1a223"
      },
      "source": [
        "#Get Text data from the Tweet Column\n",
        "corpus = data['OriginalTweet']\n",
        "corpus"
      ],
      "execution_count": null,
      "outputs": [
        {
          "output_type": "execute_result",
          "data": {
            "text/plain": [
              "0       @MeNyrbie @Phil_Gahan @Chrisitv https://t.co/i...\n",
              "1       advice Talk to your neighbours family to excha...\n",
              "2       Coronavirus Australia: Woolworths to give elde...\n",
              "3       My food stock is not the only one which is emp...\n",
              "4       Me, ready to go at supermarket during the #COV...\n",
              "                              ...                        \n",
              "3793    Meanwhile In A Supermarket in Israel -- People...\n",
              "3794    Did you panic buy a lot of non-perishable item...\n",
              "3795    Asst Prof of Economics @cconces was on @NBCPhi...\n",
              "3796    Gov need to do somethings instead of biar je r...\n",
              "3797    I and @ForestandPaper members are committed to...\n",
              "Name: OriginalTweet, Length: 44955, dtype: object"
            ]
          },
          "metadata": {},
          "execution_count": 50
        }
      ]
    },
    {
      "cell_type": "code",
      "metadata": {
        "colab": {
          "base_uri": "https://localhost:8080/"
        },
        "id": "yCVxlawtmirJ",
        "outputId": "5ba6ecdc-d299-4a71-aee6-9c9de3eb0715"
      },
      "source": [
        "#One-Hot Encoding of the labels\n",
        "sentiment = pd.get_dummies(data['Sentiment'])\n",
        "print(sentiment)"
      ],
      "execution_count": null,
      "outputs": [
        {
          "output_type": "stream",
          "name": "stdout",
          "text": [
            "      Extremely Negative  Extremely Positive  Negative  Neutral  Positive\n",
            "0                      0                   0         0        1         0\n",
            "1                      0                   0         0        0         1\n",
            "2                      0                   0         0        0         1\n",
            "3                      0                   0         0        0         1\n",
            "4                      1                   0         0        0         0\n",
            "...                  ...                 ...       ...      ...       ...\n",
            "3793                   0                   0         0        0         1\n",
            "3794                   0                   0         1        0         0\n",
            "3795                   0                   0         0        1         0\n",
            "3796                   1                   0         0        0         0\n",
            "3797                   0                   1         0        0         0\n",
            "\n",
            "[44955 rows x 5 columns]\n"
          ]
        }
      ]
    },
    {
      "cell_type": "code",
      "metadata": {
        "colab": {
          "base_uri": "https://localhost:8080/"
        },
        "id": "F2YIgGTXmilh",
        "outputId": "fa83f64b-157e-47b1-cc0b-1e7d45b42afd"
      },
      "source": [
        "print(len(corpus))\n",
        "print(len(sentiment))"
      ],
      "execution_count": null,
      "outputs": [
        {
          "output_type": "stream",
          "name": "stdout",
          "text": [
            "44955\n",
            "44955\n"
          ]
        }
      ]
    },
    {
      "cell_type": "code",
      "metadata": {
        "colab": {
          "base_uri": "https://localhost:8080/"
        },
        "id": "J_tlPUb-obH7",
        "outputId": "22d11e74-5d54-4c5a-c2b9-53a678b23d5d"
      },
      "source": [
        "# Create tokenizer to tokenize sentences\n",
        "import nltk\n",
        "nltk.download('punkt')\n",
        "from nltk.tokenize import sent_tokenize,word_tokenize\n",
        "tokenizer= word_tokenize('text')"
      ],
      "execution_count": null,
      "outputs": [
        {
          "output_type": "stream",
          "name": "stdout",
          "text": [
            "[nltk_data] Downloading package punkt to /root/nltk_data...\n",
            "[nltk_data]   Unzipping tokenizers/punkt.zip.\n"
          ]
        }
      ]
    },
    {
      "cell_type": "code",
      "metadata": {
        "id": "5bQOIrnymiea"
      },
      "source": [
        "#Words Tokenization\n",
        "from nltk.tokenize import word_tokenize\n",
        "\n",
        "all_words = []\n",
        "for sent in corpus:\n",
        "    tokenize_word = word_tokenize(sent)\n",
        "    for word in tokenize_word:\n",
        "        all_words.append(word)"
      ],
      "execution_count": null,
      "outputs": []
    },
    {
      "cell_type": "code",
      "metadata": {
        "colab": {
          "base_uri": "https://localhost:8080/"
        },
        "id": "moEj4bL4miXG",
        "outputId": "dc9a8ba9-26fd-4129-ef44-76dd87129f17"
      },
      "source": [
        "#Extract each word while ignoring duplicates\n",
        "unique_words = set(all_words)\n",
        "print(len(unique_words))"
      ],
      "execution_count": null,
      "outputs": [
        {
          "output_type": "stream",
          "name": "stdout",
          "text": [
            "108246\n"
          ]
        }
      ]
    },
    {
      "cell_type": "code",
      "metadata": {
        "id": "eFuYLxvYmiOT"
      },
      "source": [
        "vocab_length = 101948\n",
        "embedded_sentences = [one_hot(sent, vocab_length) for sent in corpus]\n",
        "#print(embedded_sentences )"
      ],
      "execution_count": null,
      "outputs": []
    },
    {
      "cell_type": "code",
      "metadata": {
        "id": "gYQisItLpjKv"
      },
      "source": [
        "#count number of words\n",
        "word_count = lambda sentence: len(word_tokenize(sentence))\n",
        "longest_sentence = max(corpus, key=word_count)\n",
        "length_long_sentence = len(word_tokenize(longest_sentence))"
      ],
      "execution_count": null,
      "outputs": []
    },
    {
      "cell_type": "code",
      "metadata": {
        "colab": {
          "base_uri": "https://localhost:8080/"
        },
        "id": "5BOFINdOpinW",
        "outputId": "56aaed75-f55a-4b79-e0f1-ccce37a2ad41"
      },
      "source": [
        "#Fill the end of each sentence with '0' so that they all have same lenght\n",
        "padded_sentences = pad_sequences(embedded_sentences, length_long_sentence, padding='post')\n",
        "print(padded_sentences)"
      ],
      "execution_count": null,
      "outputs": [
        {
          "output_type": "stream",
          "name": "stdout",
          "text": [
            "[[75465 97295 36843 ...     0     0     0]\n",
            " [17292 40849 17638 ...     0     0     0]\n",
            " [37771 28313 82784 ...     0     0     0]\n",
            " ...\n",
            " [43332 57026 61523 ...     0     0     0]\n",
            " [84249 43299 17638 ...     0     0     0]\n",
            " [64031 37588 75181 ...     0     0     0]]\n"
          ]
        }
      ]
    },
    {
      "cell_type": "code",
      "metadata": {
        "colab": {
          "base_uri": "https://localhost:8080/"
        },
        "id": "l1ly8xvCpido",
        "outputId": "5221e1ec-ac0c-437d-c516-32142b404707"
      },
      "source": [
        "len(padded_sentences)"
      ],
      "execution_count": null,
      "outputs": [
        {
          "output_type": "execute_result",
          "data": {
            "text/plain": [
              "44955"
            ]
          },
          "metadata": {},
          "execution_count": 66
        }
      ]
    },
    {
      "cell_type": "code",
      "metadata": {
        "id": "28MlQJqFp42R"
      },
      "source": [
        "#divide the data into Training and Testing\n",
        "\n",
        "X_train,X_test, y_train, y_test = train_test_split(padded_sentences, sentiment, train_size=0.9, random_state=42)"
      ],
      "execution_count": null,
      "outputs": []
    },
    {
      "cell_type": "code",
      "metadata": {
        "id": "k72B1jrip_wl"
      },
      "source": [
        "#Build the Model \n",
        "model = Sequential()\n",
        "model.add(Embedding(vocab_length, 20, input_length=length_long_sentence))\n",
        "model.add(LSTM(20, return_sequences=True))\n",
        "model.add(Dense(100, activation='relu'))\n",
        "model.add(Flatten())\n",
        "model.add(Dense(5, activation='softmax'))"
      ],
      "execution_count": null,
      "outputs": []
    },
    {
      "cell_type": "code",
      "metadata": {
        "colab": {
          "base_uri": "https://localhost:8080/"
        },
        "id": "cJd3b06Up_eD",
        "outputId": "2ad6675d-29da-4215-f27c-90f09c0d3f34"
      },
      "source": [
        "#compile model and show summary\n",
        "model.compile(optimizer='adam', loss='categorical_crossentropy', metrics=['acc'])\n",
        "print(model.summary())"
      ],
      "execution_count": null,
      "outputs": [
        {
          "output_type": "stream",
          "name": "stdout",
          "text": [
            "Model: \"sequential\"\n",
            "_________________________________________________________________\n",
            " Layer (type)                Output Shape              Param #   \n",
            "=================================================================\n",
            " embedding (Embedding)       (None, 235, 20)           2038960   \n",
            "                                                                 \n",
            " lstm (LSTM)                 (None, 235, 20)           3280      \n",
            "                                                                 \n",
            " dense (Dense)               (None, 235, 100)          2100      \n",
            "                                                                 \n",
            " flatten (Flatten)           (None, 23500)             0         \n",
            "                                                                 \n",
            " dense_1 (Dense)             (None, 5)                 117505    \n",
            "                                                                 \n",
            "=================================================================\n",
            "Total params: 2,161,845\n",
            "Trainable params: 2,161,845\n",
            "Non-trainable params: 0\n",
            "_________________________________________________________________\n",
            "None\n"
          ]
        }
      ]
    },
    {
      "cell_type": "code",
      "metadata": {
        "colab": {
          "base_uri": "https://localhost:8080/"
        },
        "id": "hLrha9wIqHn0",
        "outputId": "c7077e5c-2661-414b-b9fd-dfb5a0d73db7"
      },
      "source": [
        "#train the model\n",
        "\n",
        "model.fit(X_train, y_train, epochs=15, steps_per_epoch=200, verbose=1)"
      ],
      "execution_count": null,
      "outputs": [
        {
          "output_type": "stream",
          "name": "stdout",
          "text": [
            "Epoch 1/15\n",
            "200/200 [==============================] - 41s 193ms/step - loss: 1.3485 - acc: 0.4033\n",
            "Epoch 2/15\n",
            "200/200 [==============================] - 38s 191ms/step - loss: 0.7751 - acc: 0.7093\n",
            "Epoch 3/15\n",
            "200/200 [==============================] - 38s 190ms/step - loss: 0.4953 - acc: 0.8303\n",
            "Epoch 4/15\n",
            "200/200 [==============================] - 37s 187ms/step - loss: 0.4178 - acc: 0.8629\n",
            "Epoch 5/15\n",
            "200/200 [==============================] - 38s 188ms/step - loss: 0.2744 - acc: 0.9153\n",
            "Epoch 6/15\n",
            "200/200 [==============================] - 38s 192ms/step - loss: 0.1982 - acc: 0.9405\n",
            "Epoch 7/15\n",
            "200/200 [==============================] - 38s 188ms/step - loss: 0.1570 - acc: 0.9516\n",
            "Epoch 8/15\n",
            "200/200 [==============================] - 38s 188ms/step - loss: 0.1225 - acc: 0.9618\n",
            "Epoch 9/15\n",
            "200/200 [==============================] - 37s 186ms/step - loss: 0.1001 - acc: 0.9700\n",
            "Epoch 10/15\n",
            "200/200 [==============================] - 37s 184ms/step - loss: 0.0786 - acc: 0.9763\n",
            "Epoch 11/15\n",
            "200/200 [==============================] - 38s 189ms/step - loss: 0.0660 - acc: 0.9807\n",
            "Epoch 12/15\n",
            "200/200 [==============================] - 38s 190ms/step - loss: 0.0527 - acc: 0.9841\n",
            "Epoch 13/15\n",
            "200/200 [==============================] - 37s 186ms/step - loss: 0.0553 - acc: 0.9822\n",
            "Epoch 14/15\n",
            "200/200 [==============================] - 37s 187ms/step - loss: 0.0538 - acc: 0.9829\n",
            "Epoch 15/15\n",
            "200/200 [==============================] - 38s 188ms/step - loss: 0.0392 - acc: 0.9875\n"
          ]
        },
        {
          "output_type": "execute_result",
          "data": {
            "text/plain": [
              "<keras.callbacks.History at 0x7fd6f04d6990>"
            ]
          },
          "metadata": {},
          "execution_count": 70
        }
      ]
    },
    {
      "cell_type": "code",
      "metadata": {
        "colab": {
          "base_uri": "https://localhost:8080/"
        },
        "id": "F8s3AIGsqOi1",
        "outputId": "5a658594-4b47-4bc1-a32d-74e3cd4958b8"
      },
      "source": [
        "#Evaluate model performance\n",
        "loss, accuracy = model.evaluate(padded_sentences, sentiment, verbose=0)\n",
        "print('Accuracy: %f' % (accuracy*100))"
      ],
      "execution_count": null,
      "outputs": [
        {
          "output_type": "stream",
          "name": "stdout",
          "text": [
            "Accuracy: 95.135134\n"
          ]
        }
      ]
    },
    {
      "cell_type": "code",
      "metadata": {
        "id": "IpNEq2hVqOMh"
      },
      "source": [
        "#make predictions\n",
        "predictions = model.predict(X_test)"
      ],
      "execution_count": null,
      "outputs": []
    },
    {
      "cell_type": "code",
      "metadata": {
        "id": "mfN3BV25tL8G"
      },
      "source": [
        "#Store Predictions result\n",
        "pred_result = (np.argmax(predictions[:20], axis=1))\n",
        "\n"
      ],
      "execution_count": null,
      "outputs": []
    },
    {
      "cell_type": "code",
      "metadata": {
        "colab": {
          "base_uri": "https://localhost:8080/"
        },
        "id": "VzbgCsQ5tLr2",
        "outputId": "3099d04e-564e-49ff-d725-e6124bf4a091"
      },
      "source": [
        "#Show result of predictions\n",
        "print(lab_names[pred_result])"
      ],
      "execution_count": null,
      "outputs": [
        {
          "output_type": "stream",
          "name": "stdout",
          "text": [
            "['Positive' 'Neutral' 'Extremely Positive' 'Extremely Negative' 'Positive'\n",
            " 'Extremely Positive' 'Neutral' 'Extremely Positive' 'Negative' 'Neutral'\n",
            " 'Extremely Negative' 'Neutral' 'Positive' 'Extremely Positive' 'Neutral'\n",
            " 'Extremely Positive' 'Positive' 'Extremely Positive' 'Neutral' 'Neutral']\n"
          ]
        }
      ]
    }
  ]
}